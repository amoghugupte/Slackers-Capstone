{
 "cells": [
  {
   "cell_type": "markdown",
   "metadata": {},
   "source": [
    "<a class=\"anchor\" id=\"top\"></a>\n",
    "## Assignment 5\n",
    "\n",
    "#### Summary of the work done this week:\n",
    "- Detailed the model compare criteria. \n",
    "- Used recall to prove that the selected model is better than the baseline.\n",
    "- Build the app using streamlit.\n",
    "\n",
    "#### Details\n",
    "1. try at least three different models with different parameter tuning strategies and compare the performance\n",
    "\n",
    "With our project:\n",
    "- A false positive will mean that the firm will lose the business of a potential 'good' client.\n",
    "- A false negative will result in the firm losing money due to loaning to a defaultee client.\n",
    "\n",
    "From the above we believe that a false negative will have a higher impact to model performance.<br>\n",
    "We have compared the below models and come up with Random Forest model as it will give us the best recall for defaultees in test data.\n",
    "KNN also has the same recall, but it has a higher false positive rate than Random Forest.\n",
    "\n",
    "| Name | accuracy default | precision default | recall default | f1 score default | accuracy | precision | recall | f1 score |\n",
    "| --- | --- | --- | --- | --- | --- | --- | --- | --- |\n",
    "| Decision Tree | 0.608149 | 1 | 0.608149 | 0.756334 | 0.606253 | 0.119638 | 0.579365 | 0.198323 | \n",
    "| Random Forrest | 1 | 1 | 1 | 1 | 0.915269 | 0.204082 | 0.002737 | 0.005401 | \n",
    "| Linear | 0.644998 | 1 | 0.644998 | 0.784193 | 0.563324 | 0.119394 | 0.657909 | 0.20211 | \n",
    "| KNN | 1 | 1 | 1 | 1 | 0.847908 | 0.104996 | 0.107553 | 0.106259 | \n",
    "\n",
    "Comparing our choosen model to the baseline (marking all applicants as not default):\n",
    "\n",
    "Baseline Accuracy Score : 0.915936227482918\n",
    "Our Best Accuracy Score : 0.9152690546851635\n",
    "\n",
    "Baseline Recall Score : 0.0\n",
    "Model Recall Score : 0.002736726874657909\n",
    "\n",
    "Baseline Recall Score Default : 0.0\n",
    "Model Recall Score Default : 1.0\n",
    "\n",
    "As it can be seen our model gives considerable improvements over the baseline for defaultee case.\n",
    "\n",
    "2. pick the best performing model and persist the model as a pickle file\n",
    "\n",
    "3. use the pickle file to do predictions via streamlit\n",
    "4. deploy streamlit app to heroku\n",
    "5. a draft version of the final presentation slides with the following minimal components (you can put TO-DOs as placeholders in certain slides for this first version):\n",
    "    - a cover page with project title and team member names\n",
    "    - a team page\n",
    "    - a page for AI canvas to summarize the project\n",
    "    - a page to discuss the EDA and preprocessing\n",
    "    - a page to discuss model training, tuning, and selection (performance)\n",
    "    - a demo of the ML Web App (live demo preferred but screenshots work too)\n",
    "6. create a github repo for the team and put all code and materials into the repo (you don't have to have everything ready in the repo for this assignment).\n"
   ]
  },
  {
   "cell_type": "markdown",
   "metadata": {},
   "source": [
    "## Assignment 4\n",
    "\n",
    "#### What two models you compared? what's the tunings you have tried.\n",
    "We compared Decision Tree, Logistical Regression and Random Forest.\n",
    "Out of these we selected Random Forest as it gave the best accuracy with ('clf_rf__criterion': 'entropy', 'clf_rf__n_estimators': 150)\n",
    "\n",
    "#### Is streamlit working locally?\n",
    "Yes it is working locally.\n",
    "We did deploy it to heroku, but the app crashes as the free tier has only 512 mb ram vs the app uses almost 650 mb.\n",
    "\n",
    "#### Think about different weights for type1/type2 error in Judgment\n",
    "\n",
    "#### What's the baseline performance? \n",
    "With the Random forrest classifier ('clf_rf__criterion': 'entropy', 'clf_rf__n_estimators': 150), we have the below metrics:\n",
    "\n",
    "| Criteria | Value |\n",
    "| --- | --- |\n",
    "| Test Accuracy Score | 0.91531506660225 |\n",
    "| Precision Score | 0.23529411764705882 |\n",
    "| Recall Score | 0.003284072249589491 |\n",
    "| F1 Score | 0.006477732793522267 |\n",
    "\n",
    "considering that most of the training data falls under no-default category, we assumed baseline model as predicting all results as no-default.\n",
    "Baseline Accuracy Score : 0.915936227482918\n",
    "Our Best Accuracy Score : 0.91531506660225\n",
    "\n"
   ]
  },
  {
   "cell_type": "markdown",
   "metadata": {},
   "source": [
    "<a class=\"anchor\" id=\"top\"></a>\n",
    "## Assignment 3\n",
    "\n",
    "1. drop the features you won't use with reasons\n",
    "\n",
    "Please see the below table for fields removed with reason:\n",
    "\n",
    "| Column Name | Description | Data type | Reason |\n",
    "| --- | --- | --- | --- |\n",
    "| AMT_ANNUITY | Loan annuity | Number |\n",
    "| AMT_CREDIT | Credit amount of the loan | Number |\n",
    "| AMT_GOODS_PRICE | For consumer loans it is the price of the goods for which the loan is given | Number |\n",
    "| AMT_INCOME_TOTAL | Income of the client | Number |\n",
    "| AMT_REQ_CREDIT_BUREAU_DAY | Number of enquiries to Credit Bureau about the client one day before application (excluding one hour before application) | Number | Duplicate |\n",
    "| AMT_REQ_CREDIT_BUREAU_HOUR | Number of enquiries to Credit Bureau about the client one hour before application | Number | Duplicate |\n",
    "| AMT_REQ_CREDIT_BUREAU_MON | Number of enquiries to Credit Bureau about the client one month before application (excluding one week before application) | Number | Duplicate |\n",
    "| AMT_REQ_CREDIT_BUREAU_QRT | Number of enquiries to Credit Bureau about the client 3 month before application (excluding one month before application) | Number | Duplicate |\n",
    "| AMT_REQ_CREDIT_BUREAU_WEEK | Number of enquiries to Credit Bureau about the client one week before application (excluding one day before application) | Number | Duplicate |\n",
    "| AMT_REQ_CREDIT_BUREAU_YEAR | Number of enquiries to Credit Bureau about the client one day year (excluding last 3 months before application) | Number |\n",
    "| CNT_CHILDREN | Number of children the client has | Number | Not significant |\n",
    "| CNT_FAM_MEMBERS | How many family members does client have | Number | Not significant |\n",
    "| CODE_GENDER | Gender of the client | Text | Not significant |\n",
    "| DAYS_BIRTH | Client's age in days at the time of application | Number |\n",
    "| DAYS_EMPLOYED | How many days before the application the person started current employment | Number |\n",
    "| DAYS_ID_PUBLISH | How many days before the application did client change the identity document with which he applied for the loan | Number |\n",
    "| DAYS_LAST_PHONE_CHANGE | How many days before application did client change phone | Number |\n",
    "| DAYS_REGISTRATION | How many days before the application did client change his registration | Number |\n",
    "| DEF_30_CNT_SOCIAL_CIRCLE | How many observation of client's social surroundings defaulted on 30 DPD (days past due) | Number |\n",
    "| DEF_60_CNT_SOCIAL_CIRCLE | How many observation of client's social surroundings defaulted on 60 (days past due) DPD | Number | Duplicate |\n",
    "| EXT_SOURCE_2 | Normalized score from external data source | Number |\n",
    "| EXT_SOURCE_3 | Normalized score from external data source | Number |\n",
    "| FLAG_CONT_MOBILE | Was mobile phone reachable (1=YES, 0=NO) | Number |\n",
    "| FLAG_DOCUMENT_10 | Did client provide document 10 | Number | Not significant |\n",
    "| FLAG_DOCUMENT_11 | Did client provide document 11 | Number | Not significant |\n",
    "| FLAG_DOCUMENT_12 | Did client provide document 12 | Number | Not significant |\n",
    "| FLAG_DOCUMENT_13 | Did client provide document 13 | Number | Not significant |\n",
    "| FLAG_DOCUMENT_14 | Did client provide document 14 | Number | Not significant |\n",
    "| FLAG_DOCUMENT_15 | Did client provide document 15 | Number | Not significant |\n",
    "| FLAG_DOCUMENT_16 | Did client provide document 16 | Number | Not significant |\n",
    "| FLAG_DOCUMENT_17 | Did client provide document 17 | Number | Not significant |\n",
    "| FLAG_DOCUMENT_18 | Did client provide document 18 | Number | Not significant |\n",
    "| FLAG_DOCUMENT_19 | Did client provide document 19 | Number | Not significant |\n",
    "| FLAG_DOCUMENT_2 | Did client provide document 2 | Number | Not significant |\n",
    "| FLAG_DOCUMENT_20 | Did client provide document 20 | Number | Not significant |\n",
    "| FLAG_DOCUMENT_21 | Did client provide document 21 | Number | Not significant |\n",
    "| FLAG_DOCUMENT_3 | Did client provide document 3 | Number | Not significant |\n",
    "| FLAG_DOCUMENT_4 | Did client provide document 4 | Number | Not significant |\n",
    "| FLAG_DOCUMENT_5 | Did client provide document 5 | Number | Not significant |\n",
    "| FLAG_DOCUMENT_6 | Did client provide document 6 | Number | Not significant |\n",
    "| FLAG_DOCUMENT_7 | Did client provide document 7 | Number | Not significant |\n",
    "| FLAG_DOCUMENT_8 | Did client provide document 8 | Number | Not significant |\n",
    "| FLAG_DOCUMENT_9 | Did client provide document 9 | Number | Not significant |\n",
    "| FLAG_EMAIL | Did client provide email (1=YES, 0=NO) | Number | Not significant |\n",
    "| FLAG_EMP_PHONE | Did client provide work phone (1=YES, 0=NO) | Number | Not significant |\n",
    "| FLAG_MOBIL | Did client provide mobile phone (1=YES, 0=NO) | Number | Not significant |\n",
    "| FLAG_OWN_CAR | Flag if the client owns a car | Text | Not significant |\n",
    "| FLAG_OWN_REALTY | Flag if client owns a house or flat | Text | Not significant |\n",
    "| FLAG_PHONE | Did client provide home phone (1=YES, 0=NO) | Number | Not significant |\n",
    "| FLAG_WORK_PHONE | Did client provide home phone (1=YES, 0=NO) | Number | Not significant |\n",
    "| HOUR_APPR_PROCESS_START | Approximately at what hour did the client apply for the loan | Number | Not significant |\n",
    "| LIVE_CITY_NOT_WORK_CITY | Flag if client's contact address does not match work address (1=different, 0=same, at city level) | Number | Not significant |\n",
    "| LIVE_REGION_NOT_WORK_REGION | Flag if client's contact address does not match work address (1=different, 0=same, at region level) | Number | Not significant |\n",
    "| NAME_CONTRACT_TYPE | Identification if loan is cash or revolving | Text | Not significant |\n",
    "| NAME_EDUCATION_TYPE | Level of highest education the client achieved | Text | Not significant |\n",
    "| NAME_FAMILY_STATUS | Family status of the client | Text | Not significant |\n",
    "| NAME_HOUSING_TYPE | What is the housing situation of the client (renting, living with parents, ...) | Text | Not significant |\n",
    "| NAME_INCOME_TYPE | Clients income type (businessman, working, maternity leave,…) | Text | Not significant |\n",
    "| NAME_TYPE_SUITE | Who was accompanying client when he was applying for the loan | Text | Not significant |\n",
    "| OBS_30_CNT_SOCIAL_CIRCLE | How many observation of client's social surroundings with observable 30 DPD (days past due) default | Number |\n",
    "| OBS_60_CNT_SOCIAL_CIRCLE | How many observation of client's social surroundings with observable 60 DPD (days past due) default | Number | Duplicate |\n",
    "| OCCUPATION_TYPE | What kind of occupation does the client have | Text | Not significant |\n",
    "| ORGANIZATION_TYPE | Type of organization where client works | Text | Not significant |\n",
    "| REG_CITY_NOT_LIVE_CITY | Flag if client's permanent address does not match contact address (1=different, 0=same, at city level) | Number | Not significant |\n",
    "| REG_CITY_NOT_WORK_CITY | Flag if client's permanent address does not match work address (1=different, 0=same, at city level) | Number | Not significant |\n",
    "| REG_REGION_NOT_LIVE_REGION | Flag if client's permanent address does not match contact address (1=different, 0=same, at region level) | Number | Not significant |\n",
    "| REG_REGION_NOT_WORK_REGION | Flag if client's permanent address does not match work address (1=different, 0=same, at region level) | Number | Not significant |\n",
    "| REGION_POPULATION_RELATIVE | Normalized population of region where client lives (higher number means the client lives in more populated region) | Number | Not significant |\n",
    "| REGION_RATING_CLIENT | Our rating of the region where client lives (1,2,3) | Number | Not significant |\n",
    "| REGION_RATING_CLIENT_W_CITY | Our rating of the region where client lives with taking city into account (1,2,3) | Number | Not significant |\n",
    "| SK_ID_CURR | ID of loan in our sample | Number | Not significant |\n",
    "| WEEKDAY_APPR_PROCESS_START | On which day of the week did the client apply for the loan | Text | Not significant |\n",
    "\n",
    "2. data pre-processing, such as handling missing data and outliers, fix data errors, scaling, transformations, etc.\n",
    "<br>\n",
    "   A lot of outliers were removed when we removed the null data using dropna. \n",
    "<br>\n",
    "   For days employed we had a max value of 365243.0 (Days employed should be a negative number). These values were removed.\n",
    "<br>\n",
    "   Our data is quite skewed:\n",
    "\n",
    "| Target | % of records |\n",
    "| --- | --- |\n",
    "| 0 | 0.917008 |\n",
    "| 1 | 0.082992 |\n",
    "\n",
    "We have over sampled to ensure better model tuning.\n",
    "\n",
    "3. start building the preprocessing pipelines \n",
    "4. attach at least one modal to test the pipeline \n",
    "    <br>\n",
    "    We have build a pipeline with the selected columns and using random forest as classifier as it gave us the best results in tests ('clf_rf__criterion': 'entropy', 'clf_rf__n_estimators': 150).\n",
    "\n",
    "5. pick and explain the evaluation metric and report the initial model performance\n",
    "\n",
    "Our data is quite skewed:\n",
    "\n",
    "| Target | % of records |\n",
    "| --- | --- |\n",
    "| 0 | 0.917008 |\n",
    "| 1 | 0.082992 |\n",
    "\n",
    "With the Random forrest classifier ('clf_rf__criterion': 'entropy', 'clf_rf__n_estimators': 150), we have the below metrics:\n",
    "\n",
    "| Criteria | Value |\n",
    "| --- | --- |\n",
    "| Test Accuracy Score | 0.91531506660225 |\n",
    "| Precision Score | 0.23529411764705882 |\n",
    "| Recall Score | 0.003284072249589491 |\n",
    "| F1 Score | 0.006477732793522267 |\n",
    "\n",
    "considering that most of the training data falls under no-default category, we assumed baseline model as predicting all results as no-default.\n",
    "Baseline Accuracy Score : 0.915936227482918\n",
    "Our Best Accuracy Score : 0.91531506660225\n",
    "\n"
   ]
  },
  {
   "cell_type": "markdown",
   "metadata": {},
   "source": [
    "\n",
    "## Assignment 2\n",
    "\n",
    "In this assignment, you should start doing EDA and you need to do at least the following:\n",
    "1. understand the meanings of each feature\n",
    "2. understand the data types of each feature (when Pandas loads your data, the auto detection of data types may not always be correct)\n",
    "3. plot features to better understand the basic descriptive statistics, distribution, correlation, etc. \n",
    "4. spot potential data issues: missing data, outliers, data errors, etc. \n",
    "\n",
    "You should have a Markdown cell on top of the notebook to BRIEFLY summarize the findings/insights from EDA and how EDA helps to guide the following steps (data preprocessing, model building, etc.)\n",
    "\n",
    "You need to submit a notebook file **AND** the PDF export of the notebook (easier for me to view directly on Canvas) to Canvas - to be clear: I am expecting two files (.ipynb and .pdf)."
   ]
  },
  {
   "cell_type": "markdown",
   "metadata": {},
   "source": [
    "\n",
    "#### 1. understand the meanings of each feature\n",
    "#### 2. understand the data types of each feature (when Pandas loads your data, the auto detection of data types may not always be correct)\n",
    "<br>\n",
    "Please see the below table for meaning and data-type of each feature:\n",
    "\n",
    "| Column Name | Description | Data type |\n",
    "| --- | --- | --- |\n",
    "| AMT_ANNUITY | Loan annuity | Number |\n",
    "| AMT_CREDIT | Credit amount of the loan | Number |\n",
    "| AMT_GOODS_PRICE | For consumer loans it is the price of the goods for which the loan is given | Number |\n",
    "| AMT_INCOME_TOTAL | Income of the client | Number |\n",
    "| AMT_REQ_CREDIT_BUREAU_DAY | Number of enquiries to Credit Bureau about the client one day before application (excluding one hour before application) | Number |\n",
    "| AMT_REQ_CREDIT_BUREAU_HOUR | Number of enquiries to Credit Bureau about the client one hour before application | Number |\n",
    "| AMT_REQ_CREDIT_BUREAU_MON | Number of enquiries to Credit Bureau about the client one month before application (excluding one week before application) | Number |\n",
    "| AMT_REQ_CREDIT_BUREAU_QRT | Number of enquiries to Credit Bureau about the client 3 month before application (excluding one month before application) | Number |\n",
    "| AMT_REQ_CREDIT_BUREAU_WEEK | Number of enquiries to Credit Bureau about the client one week before application (excluding one day before application) | Number |\n",
    "| AMT_REQ_CREDIT_BUREAU_YEAR | Number of enquiries to Credit Bureau about the client one day year (excluding last 3 months before application) | Number |\n",
    "| CNT_CHILDREN | Number of children the client has | Number |\n",
    "| CNT_FAM_MEMBERS | How many family members does client have | Number |\n",
    "| CODE_GENDER | Gender of the client | Text |\n",
    "| DAYS_BIRTH | Client's age in days at the time of application | Number |\n",
    "| DAYS_EMPLOYED | How many days before the application the person started current employment | Number |\n",
    "| DAYS_ID_PUBLISH | How many days before the application did client change the identity document with which he applied for the loan | Number |\n",
    "| DAYS_LAST_PHONE_CHANGE | How many days before application did client change phone | Number |\n",
    "| DAYS_REGISTRATION | How many days before the application did client change his registration | Number |\n",
    "| DEF_30_CNT_SOCIAL_CIRCLE | How many observation of client's social surroundings defaulted on 30 DPD (days past due)  | Number |\n",
    "| DEF_60_CNT_SOCIAL_CIRCLE | How many observation of client's social surroundings defaulted on 60 (days past due) DPD | Number |\n",
    "| EXT_SOURCE_2 | Normalized score from external data source | Number |\n",
    "| EXT_SOURCE_3 | Normalized score from external data source | Number |\n",
    "| FLAG_CONT_MOBILE | Was mobile phone reachable (1=YES, 0=NO) | Number |\n",
    "| FLAG_DOCUMENT_10 | Did client provide document 10 | Number |\n",
    "| FLAG_DOCUMENT_11 | Did client provide document 11 | Number |\n",
    "| FLAG_DOCUMENT_12 | Did client provide document 12 | Number |\n",
    "| FLAG_DOCUMENT_13 | Did client provide document 13 | Number |\n",
    "| FLAG_DOCUMENT_14 | Did client provide document 14 | Number |\n",
    "| FLAG_DOCUMENT_15 | Did client provide document 15 | Number |\n",
    "| FLAG_DOCUMENT_16 | Did client provide document 16 | Number |\n",
    "| FLAG_DOCUMENT_17 | Did client provide document 17 | Number |\n",
    "| FLAG_DOCUMENT_18 | Did client provide document 18 | Number |\n",
    "| FLAG_DOCUMENT_19 | Did client provide document 19 | Number |\n",
    "| FLAG_DOCUMENT_2 | Did client provide document 2 | Number |\n",
    "| FLAG_DOCUMENT_20 | Did client provide document 20 | Number |\n",
    "| FLAG_DOCUMENT_21 | Did client provide document 21 | Number |\n",
    "| FLAG_DOCUMENT_3 | Did client provide document 3 | Number |\n",
    "| FLAG_DOCUMENT_4 | Did client provide document 4 | Number |\n",
    "| FLAG_DOCUMENT_5 | Did client provide document 5 | Number |\n",
    "| FLAG_DOCUMENT_6 | Did client provide document 6 | Number |\n",
    "| FLAG_DOCUMENT_7 | Did client provide document 7 | Number |\n",
    "| FLAG_DOCUMENT_8 | Did client provide document 8 | Number |\n",
    "| FLAG_DOCUMENT_9 | Did client provide document 9 | Number |\n",
    "| FLAG_EMAIL | Did client provide email (1=YES, 0=NO) | Number |\n",
    "| FLAG_EMP_PHONE | Did client provide work phone (1=YES, 0=NO) | Number |\n",
    "| FLAG_MOBIL | Did client provide mobile phone (1=YES, 0=NO) | Number |\n",
    "| FLAG_OWN_CAR | Flag if the client owns a car | Text |\n",
    "| FLAG_OWN_REALTY | Flag if client owns a house or flat | Text |\n",
    "| FLAG_PHONE | Did client provide home phone (1=YES, 0=NO) | Number |\n",
    "| FLAG_WORK_PHONE | Did client provide home phone (1=YES, 0=NO) | Number |\n",
    "| HOUR_APPR_PROCESS_START | Approximately at what hour did the client apply for the loan | Number |\n",
    "| LIVE_CITY_NOT_WORK_CITY | Flag if client's contact address does not match work address (1=different, 0=same, at city level) | Number |\n",
    "| LIVE_REGION_NOT_WORK_REGION | Flag if client's contact address does not match work address (1=different, 0=same, at region level) | Number |\n",
    "| NAME_CONTRACT_TYPE | Identification if loan is cash or revolving | Text |\n",
    "| NAME_EDUCATION_TYPE | Level of highest education the client achieved | Text |\n",
    "| NAME_FAMILY_STATUS | Family status of the client | Text |\n",
    "| NAME_HOUSING_TYPE | What is the housing situation of the client (renting, living with parents, ...) | Text |\n",
    "| NAME_INCOME_TYPE | Clients income type (businessman, working, maternity leave,…) | Text |\n",
    "| NAME_TYPE_SUITE | Who was accompanying client when he was applying for the loan | Text |\n",
    "| OBS_30_CNT_SOCIAL_CIRCLE | How many observation of client's social surroundings with observable 30 DPD (days past due) default | Number |\n",
    "| OBS_60_CNT_SOCIAL_CIRCLE | How many observation of client's social surroundings with observable 60 DPD (days past due) default | Number |\n",
    "| OCCUPATION_TYPE | What kind of occupation does the client have | Text |\n",
    "| ORGANIZATION_TYPE | Type of organization where client works | Text |\n",
    "| REG_CITY_NOT_LIVE_CITY | Flag if client's permanent address does not match contact address (1=different, 0=same, at city level) | Number |\n",
    "| REG_CITY_NOT_WORK_CITY | Flag if client's permanent address does not match work address (1=different, 0=same, at city level) | Number |\n",
    "| REG_REGION_NOT_LIVE_REGION | Flag if client's permanent address does not match contact address (1=different, 0=same, at region level) | Number |\n",
    "| REG_REGION_NOT_WORK_REGION | Flag if client's permanent address does not match work address (1=different, 0=same, at region level) | Number |\n",
    "| REGION_POPULATION_RELATIVE | Normalized population of region where client lives (higher number means the client lives in more populated region) | Number |\n",
    "| REGION_RATING_CLIENT | Our rating of the region where client lives (1,2,3) | Number |\n",
    "| REGION_RATING_CLIENT_W_CITY | Our rating of the region where client lives with taking city into account (1,2,3) | Number |\n",
    "| SK_ID_CURR | ID of loan in our sample | Number |\n",
    "| WEEKDAY_APPR_PROCESS_START | On which day of the week did the client apply for the loan | Text |\n",
    "\n",
    "\n",
    "#### 3. plot features to better understand the basic descriptive statistics, distribution, correlation, etc.\n",
    "[EDA](#eda)\n",
    "\n",
    "#### 4. spot potential data issues: missing data, outliers, data errors, etc.\n",
    "Please see the below for EDA analysis:\n",
    "1. Some data for EXT_SOURCE_1, EXT_SOURCE_2, EXT_SOURCE_3, AMT_REQ_CREDIT_BUREAU_QRT missing, we may have to delete these rows and see if we can create the model, worst case we may have to remove these columns and check if the model can be generated.\n",
    "1. Mean income is 168,798. Max income is 117,000,000\n",
    "1. Mean credit is 599,026. Max credit is 4,050,000\n",
    "1. Mean age is 44 years, Min age is 21 years, Max age is 69 years\n",
    "1. Mean employment tenure is skewed because of few outliers, which we will filter to get a better model.\n",
    "1. AMT_REQ_CREDIT_BUREAU_QRT - Number of enquiries to Credit Bureau about the client 3 month before application (excluding one month before\n",
    "application)\n",
    "1. FLAG_OWN_CAR, FLAG_OWN_REALTY valid values are Y and N\n",
    "1. NAME_INCOME_TYPE valid values are - Bussinessman, Commercial associate, Maternity leave, Pensioner, State servant, Student, unemployed, Working\n",
    "1. NAME_EDUCATION_TYPE valid values  are - Academic degree, Higher education, Incomplete higher, Lower secondary, Secondary/secondary special\n",
    "1. NAME_HOUSING_TYPE valid values are - Co-op apartment, House / apartment, Municipal apartment, Office apartment, Rented apartment, With parents\n",
    "1. REGION_RATING_CLIENT, REGION_RATING_CLIENT_W_CITY  valid values are - 1, 2, 3\n",
    "1. ORGANIZATION_TYPE has too many categories may cause over fitting."
   ]
  },
  {
   "cell_type": "markdown",
   "metadata": {},
   "source": [
    "## Assignment 1\n",
    "\n",
    "## Summary\n",
    "This data set is uploaded in order to get the insights of Credit card Defaultees based on the respective attributes. \n",
    "The consumer lending line of business @ JPMC is in the business of lending money to customers for loans, credit cards, mortgage, etc. and a model like this which can predict potential defaults would be immensely helpful in making lending decisions. The aim of the project is to provide this service, based on a ML model, which will be repeatable, scallable and retrainable.\n",
    "\n",
    "## Data Set\n",
    "Data set is from Kaggle : https://www.kaggle.com/mishra5001/credit-card\n",
    "\n",
    "Source:\n",
    "\n",
    "International Institute of Information Technology Bangalore\n",
    "\n",
    "The Data was collected as part of Social Experiment to provide public inferences of how a person applying for Loan can get it completed in a minimal amount of time. Also, adhering to the facts as which type of customers fail to repay the installments or full loan and provide inference so that the person applying for loan does not falls into that category.\n",
    "\n",
    "### Description from Kaggle:\n",
    "#### Motive!\n",
    "\n",
    "This data set is uploaded in order to get the insights of Credit card Defaultees based on the respective attributes!\n",
    "\n",
    "#### Inside?\n",
    "\n",
    "We have attributes such as IncomeTotal,AMTAPPLICATION,AMT_CREDIT and around 122 Columns in Application Data Set. The interesting thing is if you intend to see the patterns and variations, we can use the PREVIOUS APPLICATION data set also, in order to get more insights.!\n",
    "\n",
    "#### Inspiration\n",
    "We took this data set as our assignment and tried to perform the EDA to the best of our capability!\n",
    "\n",
    "## Solution approach\n",
    "This is a supervised classification problem since we are using existing features and target variable to first train the model on a subset of data and then evaluate the model's performance on the test data. We would pick the model that best meets the criteria of accuracy and performance. We are trying to predict if a loan request from a customer will default.\n",
    "\n",
    "\n",
    "## Value to JP Morgan\n",
    "The consumer lending line of business @ JPMC is in the business of lending money to customers for loans, credit cards, mortgage, etc. and a model like this which can predict potential defaults would be immensely helpful in making lending decisions, Also help JPMC to identify and train their customers for credit discipline.\n",
    "\n",
    "\n",
    "\n",
    "## Aim of the project\n",
    "Use the data to come up with a classification model, to approve or reject the application. Eventually build a scalable, repeatable service to give live classification decisions.\n",
    "\n",
    "## Plan for deliverables\n",
    "All code and analysis will be checkin in github:\n",
    "https://github.com/amoghugupte/Slackers-Capstone\n"
   ]
  },
  {
   "cell_type": "code",
   "execution_count": 1,
   "metadata": {},
   "outputs": [],
   "source": [
    "import pandas as pd # main focus of this Notebook!\n",
    "import seaborn as sns\n",
    "import matplotlib.pyplot as pyplot\n",
    "import datetime\n",
    "\n",
    "sns.set()\n",
    "\n",
    "# df is a common name for a dataframe\n",
    "df = pd.read_csv('application_data.csv') # read into a pandas DataFrame (df)\n",
    "\n",
    "# head() is a handy way to visualize what you've loaded. \n",
    "#df = df.head(200) \n",
    "df.head() \n",
    "\n",
    "#pd.set_option('display.height', 1000)\n",
    "pd.set_option('display.max_rows', 500)\n",
    "pd.set_option('display.max_columns', 500)\n",
    "pd.set_option('display.width', 1000)\n",
    "\n",
    "model_fit_cores = 7\n",
    "model_verbose_level = 4\n",
    "#data_size_limit = 167732"
   ]
  },
  {
   "cell_type": "code",
   "execution_count": 2,
   "metadata": {},
   "outputs": [
    {
     "data": {
      "text/plain": [
       "(307511, 122)"
      ]
     },
     "execution_count": 2,
     "metadata": {},
     "output_type": "execute_result"
    }
   ],
   "source": [
    "df.shape"
   ]
  },
  {
   "cell_type": "code",
   "execution_count": 3,
   "metadata": {},
   "outputs": [
    {
     "data": {
      "text/plain": [
       "(252137, 11)"
      ]
     },
     "execution_count": 3,
     "metadata": {},
     "output_type": "execute_result"
    }
   ],
   "source": [
    "# create a new dataframe with a subset of columns\n",
    "\n",
    "\n",
    "## The below column list gives 167K odd non null rows, hence keeping this for EDA\n",
    "cols = [\"TARGET\", \"AMT_ANNUITY\", \"AMT_CREDIT\", \"AMT_GOODS_PRICE\", \"AMT_INCOME_TOTAL\", \"AMT_REQ_CREDIT_BUREAU_YEAR\", \"DAYS_BIRTH\", \"DAYS_EMPLOYED\", \"DAYS_ID_PUBLISH\", \"DAYS_LAST_PHONE_CHANGE\", \"OBS_30_CNT_SOCIAL_CIRCLE\"]\n",
    "\n",
    "\n",
    "#'SK_ID_PREV','AMT_APPLICATION', 'NAME_CONTRACT_STATUS', 'DAYS_DECISION', 'CODE_REJECT_REASON', 'NAME_CLIENT_TYPE'  - No data\n",
    "#'EXT_SOURCE_1',  'EXT_SOURCE_2', 'EXT_SOURCE_3', \n",
    "#'OCCUPATION_TYPE',\n",
    "df_reduced = df.loc[:,cols].copy() # all rows (:)\n",
    "df_reduced = df_reduced [(df_reduced.DAYS_EMPLOYED <= 0)]\n",
    "df_reduced.shape"
   ]
  },
  {
   "cell_type": "code",
   "execution_count": 4,
   "metadata": {},
   "outputs": [
    {
     "data": {
      "text/html": [
       "<div>\n",
       "<style scoped>\n",
       "    .dataframe tbody tr th:only-of-type {\n",
       "        vertical-align: middle;\n",
       "    }\n",
       "\n",
       "    .dataframe tbody tr th {\n",
       "        vertical-align: top;\n",
       "    }\n",
       "\n",
       "    .dataframe thead th {\n",
       "        text-align: right;\n",
       "    }\n",
       "</style>\n",
       "<table border=\"1\" class=\"dataframe\">\n",
       "  <thead>\n",
       "    <tr style=\"text-align: right;\">\n",
       "      <th></th>\n",
       "      <th>count</th>\n",
       "      <th>mean</th>\n",
       "      <th>std</th>\n",
       "      <th>min</th>\n",
       "      <th>25%</th>\n",
       "      <th>50%</th>\n",
       "      <th>75%</th>\n",
       "      <th>max</th>\n",
       "    </tr>\n",
       "  </thead>\n",
       "  <tbody>\n",
       "    <tr>\n",
       "      <th>TARGET</th>\n",
       "      <td>252137.0</td>\n",
       "      <td>0.086600</td>\n",
       "      <td>0.281248</td>\n",
       "      <td>0.0</td>\n",
       "      <td>0.0</td>\n",
       "      <td>0.0</td>\n",
       "      <td>0.0</td>\n",
       "      <td>1.0</td>\n",
       "    </tr>\n",
       "    <tr>\n",
       "      <th>AMT_ANNUITY</th>\n",
       "      <td>252125.0</td>\n",
       "      <td>27812.325168</td>\n",
       "      <td>14647.759104</td>\n",
       "      <td>1980.0</td>\n",
       "      <td>17073.0</td>\n",
       "      <td>25834.5</td>\n",
       "      <td>35617.5</td>\n",
       "      <td>258025.5</td>\n",
       "    </tr>\n",
       "    <tr>\n",
       "      <th>AMT_CREDIT</th>\n",
       "      <td>252137.0</td>\n",
       "      <td>611398.457583</td>\n",
       "      <td>406527.199875</td>\n",
       "      <td>45000.0</td>\n",
       "      <td>277969.5</td>\n",
       "      <td>521280.0</td>\n",
       "      <td>829224.0</td>\n",
       "      <td>4050000.0</td>\n",
       "    </tr>\n",
       "    <tr>\n",
       "      <th>AMT_GOODS_PRICE</th>\n",
       "      <td>251881.0</td>\n",
       "      <td>549405.668191</td>\n",
       "      <td>373268.534580</td>\n",
       "      <td>40500.0</td>\n",
       "      <td>247500.0</td>\n",
       "      <td>450000.0</td>\n",
       "      <td>693000.0</td>\n",
       "      <td>4050000.0</td>\n",
       "    </tr>\n",
       "    <tr>\n",
       "      <th>AMT_INCOME_TOTAL</th>\n",
       "      <td>252137.0</td>\n",
       "      <td>175914.070795</td>\n",
       "      <td>258851.587748</td>\n",
       "      <td>25650.0</td>\n",
       "      <td>112500.0</td>\n",
       "      <td>157500.0</td>\n",
       "      <td>211500.0</td>\n",
       "      <td>117000000.0</td>\n",
       "    </tr>\n",
       "    <tr>\n",
       "      <th>AMT_REQ_CREDIT_BUREAU_YEAR</th>\n",
       "      <td>218281.0</td>\n",
       "      <td>1.856277</td>\n",
       "      <td>1.826298</td>\n",
       "      <td>0.0</td>\n",
       "      <td>0.0</td>\n",
       "      <td>1.0</td>\n",
       "      <td>3.0</td>\n",
       "      <td>23.0</td>\n",
       "    </tr>\n",
       "    <tr>\n",
       "      <th>DAYS_BIRTH</th>\n",
       "      <td>252137.0</td>\n",
       "      <td>-14769.133174</td>\n",
       "      <td>3662.573769</td>\n",
       "      <td>-25200.0</td>\n",
       "      <td>-17563.0</td>\n",
       "      <td>-14573.0</td>\n",
       "      <td>-11775.0</td>\n",
       "      <td>-7489.0</td>\n",
       "    </tr>\n",
       "    <tr>\n",
       "      <th>DAYS_EMPLOYED</th>\n",
       "      <td>252137.0</td>\n",
       "      <td>-2384.169325</td>\n",
       "      <td>2338.360162</td>\n",
       "      <td>-17912.0</td>\n",
       "      <td>-3175.0</td>\n",
       "      <td>-1648.0</td>\n",
       "      <td>-767.0</td>\n",
       "      <td>0.0</td>\n",
       "    </tr>\n",
       "    <tr>\n",
       "      <th>DAYS_ID_PUBLISH</th>\n",
       "      <td>252137.0</td>\n",
       "      <td>-2800.639724</td>\n",
       "      <td>1515.360629</td>\n",
       "      <td>-7197.0</td>\n",
       "      <td>-4177.0</td>\n",
       "      <td>-2886.0</td>\n",
       "      <td>-1487.0</td>\n",
       "      <td>0.0</td>\n",
       "    </tr>\n",
       "    <tr>\n",
       "      <th>DAYS_LAST_PHONE_CHANGE</th>\n",
       "      <td>252136.0</td>\n",
       "      <td>-971.038594</td>\n",
       "      <td>827.305303</td>\n",
       "      <td>-4292.0</td>\n",
       "      <td>-1578.0</td>\n",
       "      <td>-763.0</td>\n",
       "      <td>-288.0</td>\n",
       "      <td>0.0</td>\n",
       "    </tr>\n",
       "    <tr>\n",
       "      <th>OBS_30_CNT_SOCIAL_CIRCLE</th>\n",
       "      <td>251288.0</td>\n",
       "      <td>1.415762</td>\n",
       "      <td>2.399977</td>\n",
       "      <td>0.0</td>\n",
       "      <td>0.0</td>\n",
       "      <td>0.0</td>\n",
       "      <td>2.0</td>\n",
       "      <td>348.0</td>\n",
       "    </tr>\n",
       "  </tbody>\n",
       "</table>\n",
       "</div>"
      ],
      "text/plain": [
       "                               count           mean            std      min       25%       50%       75%          max\n",
       "TARGET                      252137.0       0.086600       0.281248      0.0       0.0       0.0       0.0          1.0\n",
       "AMT_ANNUITY                 252125.0   27812.325168   14647.759104   1980.0   17073.0   25834.5   35617.5     258025.5\n",
       "AMT_CREDIT                  252137.0  611398.457583  406527.199875  45000.0  277969.5  521280.0  829224.0    4050000.0\n",
       "AMT_GOODS_PRICE             251881.0  549405.668191  373268.534580  40500.0  247500.0  450000.0  693000.0    4050000.0\n",
       "AMT_INCOME_TOTAL            252137.0  175914.070795  258851.587748  25650.0  112500.0  157500.0  211500.0  117000000.0\n",
       "AMT_REQ_CREDIT_BUREAU_YEAR  218281.0       1.856277       1.826298      0.0       0.0       1.0       3.0         23.0\n",
       "DAYS_BIRTH                  252137.0  -14769.133174    3662.573769 -25200.0  -17563.0  -14573.0  -11775.0      -7489.0\n",
       "DAYS_EMPLOYED               252137.0   -2384.169325    2338.360162 -17912.0   -3175.0   -1648.0    -767.0          0.0\n",
       "DAYS_ID_PUBLISH             252137.0   -2800.639724    1515.360629  -7197.0   -4177.0   -2886.0   -1487.0          0.0\n",
       "DAYS_LAST_PHONE_CHANGE      252136.0    -971.038594     827.305303  -4292.0   -1578.0    -763.0    -288.0          0.0\n",
       "OBS_30_CNT_SOCIAL_CIRCLE    251288.0       1.415762       2.399977      0.0       0.0       0.0       2.0        348.0"
      ]
     },
     "execution_count": 4,
     "metadata": {},
     "output_type": "execute_result"
    }
   ],
   "source": [
    "df_reduced.describe(include='all').transpose()"
   ]
  },
  {
   "cell_type": "code",
   "execution_count": 5,
   "metadata": {},
   "outputs": [
    {
     "data": {
      "text/plain": [
       "(217335, 11)"
      ]
     },
     "execution_count": 5,
     "metadata": {},
     "output_type": "execute_result"
    }
   ],
   "source": [
    "df_reduced = df_reduced.dropna()\n",
    "df_reduced.shape"
   ]
  },
  {
   "cell_type": "code",
   "execution_count": 6,
   "metadata": {},
   "outputs": [
    {
     "data": {
      "text/html": [
       "<div>\n",
       "<style scoped>\n",
       "    .dataframe tbody tr th:only-of-type {\n",
       "        vertical-align: middle;\n",
       "    }\n",
       "\n",
       "    .dataframe tbody tr th {\n",
       "        vertical-align: top;\n",
       "    }\n",
       "\n",
       "    .dataframe thead th {\n",
       "        text-align: right;\n",
       "    }\n",
       "</style>\n",
       "<table border=\"1\" class=\"dataframe\">\n",
       "  <thead>\n",
       "    <tr style=\"text-align: right;\">\n",
       "      <th></th>\n",
       "      <th>count</th>\n",
       "      <th>mean</th>\n",
       "      <th>std</th>\n",
       "      <th>min</th>\n",
       "      <th>25%</th>\n",
       "      <th>50%</th>\n",
       "      <th>75%</th>\n",
       "      <th>max</th>\n",
       "    </tr>\n",
       "  </thead>\n",
       "  <tbody>\n",
       "    <tr>\n",
       "      <th>TARGET</th>\n",
       "      <td>217335.0</td>\n",
       "      <td>0.082992</td>\n",
       "      <td>0.275870</td>\n",
       "      <td>0.0</td>\n",
       "      <td>0.0</td>\n",
       "      <td>0.0</td>\n",
       "      <td>0.0</td>\n",
       "      <td>1.0</td>\n",
       "    </tr>\n",
       "    <tr>\n",
       "      <th>AMT_ANNUITY</th>\n",
       "      <td>217335.0</td>\n",
       "      <td>27931.622534</td>\n",
       "      <td>14532.515184</td>\n",
       "      <td>1980.0</td>\n",
       "      <td>17208.0</td>\n",
       "      <td>26014.5</td>\n",
       "      <td>35694.0</td>\n",
       "      <td>258025.5</td>\n",
       "    </tr>\n",
       "    <tr>\n",
       "      <th>AMT_CREDIT</th>\n",
       "      <td>217335.0</td>\n",
       "      <td>620898.475871</td>\n",
       "      <td>409537.620572</td>\n",
       "      <td>45000.0</td>\n",
       "      <td>284400.0</td>\n",
       "      <td>528633.0</td>\n",
       "      <td>835605.0</td>\n",
       "      <td>4050000.0</td>\n",
       "    </tr>\n",
       "    <tr>\n",
       "      <th>AMT_GOODS_PRICE</th>\n",
       "      <td>217335.0</td>\n",
       "      <td>557646.250514</td>\n",
       "      <td>375924.008880</td>\n",
       "      <td>40500.0</td>\n",
       "      <td>247500.0</td>\n",
       "      <td>454500.0</td>\n",
       "      <td>702000.0</td>\n",
       "      <td>4050000.0</td>\n",
       "    </tr>\n",
       "    <tr>\n",
       "      <th>AMT_INCOME_TOTAL</th>\n",
       "      <td>217335.0</td>\n",
       "      <td>178418.866632</td>\n",
       "      <td>271657.082843</td>\n",
       "      <td>26550.0</td>\n",
       "      <td>112500.0</td>\n",
       "      <td>157500.0</td>\n",
       "      <td>225000.0</td>\n",
       "      <td>117000000.0</td>\n",
       "    </tr>\n",
       "    <tr>\n",
       "      <th>AMT_REQ_CREDIT_BUREAU_YEAR</th>\n",
       "      <td>217335.0</td>\n",
       "      <td>1.857796</td>\n",
       "      <td>1.826271</td>\n",
       "      <td>0.0</td>\n",
       "      <td>0.0</td>\n",
       "      <td>1.0</td>\n",
       "      <td>3.0</td>\n",
       "      <td>23.0</td>\n",
       "    </tr>\n",
       "    <tr>\n",
       "      <th>DAYS_BIRTH</th>\n",
       "      <td>217335.0</td>\n",
       "      <td>-14866.891568</td>\n",
       "      <td>3618.436355</td>\n",
       "      <td>-25200.0</td>\n",
       "      <td>-17611.0</td>\n",
       "      <td>-14673.0</td>\n",
       "      <td>-11931.0</td>\n",
       "      <td>-7489.0</td>\n",
       "    </tr>\n",
       "    <tr>\n",
       "      <th>DAYS_EMPLOYED</th>\n",
       "      <td>217335.0</td>\n",
       "      <td>-2449.476679</td>\n",
       "      <td>2374.626327</td>\n",
       "      <td>-17912.0</td>\n",
       "      <td>-3269.0</td>\n",
       "      <td>-1704.0</td>\n",
       "      <td>-797.0</td>\n",
       "      <td>0.0</td>\n",
       "    </tr>\n",
       "    <tr>\n",
       "      <th>DAYS_ID_PUBLISH</th>\n",
       "      <td>217335.0</td>\n",
       "      <td>-2863.936964</td>\n",
       "      <td>1500.743106</td>\n",
       "      <td>-7197.0</td>\n",
       "      <td>-4208.0</td>\n",
       "      <td>-2981.0</td>\n",
       "      <td>-1584.0</td>\n",
       "      <td>0.0</td>\n",
       "    </tr>\n",
       "    <tr>\n",
       "      <th>DAYS_LAST_PHONE_CHANGE</th>\n",
       "      <td>217335.0</td>\n",
       "      <td>-995.861237</td>\n",
       "      <td>833.681981</td>\n",
       "      <td>-4185.0</td>\n",
       "      <td>-1611.0</td>\n",
       "      <td>-803.0</td>\n",
       "      <td>-298.0</td>\n",
       "      <td>0.0</td>\n",
       "    </tr>\n",
       "    <tr>\n",
       "      <th>OBS_30_CNT_SOCIAL_CIRCLE</th>\n",
       "      <td>217335.0</td>\n",
       "      <td>1.424483</td>\n",
       "      <td>2.419625</td>\n",
       "      <td>0.0</td>\n",
       "      <td>0.0</td>\n",
       "      <td>0.0</td>\n",
       "      <td>2.0</td>\n",
       "      <td>348.0</td>\n",
       "    </tr>\n",
       "  </tbody>\n",
       "</table>\n",
       "</div>"
      ],
      "text/plain": [
       "                               count           mean            std      min       25%       50%       75%          max\n",
       "TARGET                      217335.0       0.082992       0.275870      0.0       0.0       0.0       0.0          1.0\n",
       "AMT_ANNUITY                 217335.0   27931.622534   14532.515184   1980.0   17208.0   26014.5   35694.0     258025.5\n",
       "AMT_CREDIT                  217335.0  620898.475871  409537.620572  45000.0  284400.0  528633.0  835605.0    4050000.0\n",
       "AMT_GOODS_PRICE             217335.0  557646.250514  375924.008880  40500.0  247500.0  454500.0  702000.0    4050000.0\n",
       "AMT_INCOME_TOTAL            217335.0  178418.866632  271657.082843  26550.0  112500.0  157500.0  225000.0  117000000.0\n",
       "AMT_REQ_CREDIT_BUREAU_YEAR  217335.0       1.857796       1.826271      0.0       0.0       1.0       3.0         23.0\n",
       "DAYS_BIRTH                  217335.0  -14866.891568    3618.436355 -25200.0  -17611.0  -14673.0  -11931.0      -7489.0\n",
       "DAYS_EMPLOYED               217335.0   -2449.476679    2374.626327 -17912.0   -3269.0   -1704.0    -797.0          0.0\n",
       "DAYS_ID_PUBLISH             217335.0   -2863.936964    1500.743106  -7197.0   -4208.0   -2981.0   -1584.0          0.0\n",
       "DAYS_LAST_PHONE_CHANGE      217335.0    -995.861237     833.681981  -4185.0   -1611.0    -803.0    -298.0          0.0\n",
       "OBS_30_CNT_SOCIAL_CIRCLE    217335.0       1.424483       2.419625      0.0       0.0       0.0       2.0        348.0"
      ]
     },
     "execution_count": 6,
     "metadata": {},
     "output_type": "execute_result"
    }
   ],
   "source": [
    "df_reduced.describe(include='all').transpose()"
   ]
  },
  {
   "cell_type": "code",
   "execution_count": 7,
   "metadata": {},
   "outputs": [
    {
     "name": "stdout",
     "output_type": "stream",
     "text": [
      "<class 'pandas.core.frame.DataFrame'>\n",
      "Int64Index: 217335 entries, 0 to 307510\n",
      "Data columns (total 11 columns):\n",
      " #   Column                      Non-Null Count   Dtype  \n",
      "---  ------                      --------------   -----  \n",
      " 0   TARGET                      217335 non-null  int64  \n",
      " 1   AMT_ANNUITY                 217335 non-null  float64\n",
      " 2   AMT_CREDIT                  217335 non-null  float64\n",
      " 3   AMT_GOODS_PRICE             217335 non-null  float64\n",
      " 4   AMT_INCOME_TOTAL            217335 non-null  float64\n",
      " 5   AMT_REQ_CREDIT_BUREAU_YEAR  217335 non-null  float64\n",
      " 6   DAYS_BIRTH                  217335 non-null  int64  \n",
      " 7   DAYS_EMPLOYED               217335 non-null  int64  \n",
      " 8   DAYS_ID_PUBLISH             217335 non-null  int64  \n",
      " 9   DAYS_LAST_PHONE_CHANGE      217335 non-null  float64\n",
      " 10  OBS_30_CNT_SOCIAL_CIRCLE    217335 non-null  float64\n",
      "dtypes: float64(7), int64(4)\n",
      "memory usage: 19.9 MB\n"
     ]
    }
   ],
   "source": [
    "df_reduced.info()"
   ]
  },
  {
   "cell_type": "markdown",
   "metadata": {},
   "source": [
    "<a class=\"anchor\" id=\"sp\"></a>\n"
   ]
  },
  {
   "cell_type": "markdown",
   "metadata": {},
   "source": [
    "## EDA <a class=\"anchor\" id=\"eda\"></a>\n",
    "\n",
    "[top](#top)"
   ]
  },
  {
   "cell_type": "code",
   "execution_count": 8,
   "metadata": {},
   "outputs": [
    {
     "data": {
      "text/plain": [
       "0    199298\n",
       "1     18037\n",
       "Name: TARGET, dtype: int64"
      ]
     },
     "execution_count": 8,
     "metadata": {},
     "output_type": "execute_result"
    }
   ],
   "source": [
    "df_reduced.TARGET.value_counts()"
   ]
  },
  {
   "cell_type": "code",
   "execution_count": 9,
   "metadata": {},
   "outputs": [
    {
     "data": {
      "text/plain": [
       "0.9152994061955977"
      ]
     },
     "execution_count": 9,
     "metadata": {},
     "output_type": "execute_result"
    }
   ],
   "source": [
    "1- 14207/(153525 + 14207)"
   ]
  },
  {
   "cell_type": "code",
   "execution_count": 10,
   "metadata": {},
   "outputs": [
    {
     "name": "stdout",
     "output_type": "stream",
     "text": [
      "0    199298\n",
      "1     18037\n",
      "Name: TARGET, dtype: int64\n"
     ]
    },
    {
     "data": {
      "text/plain": [
       "[Text(0.5, 1.0, 'Target')]"
      ]
     },
     "execution_count": 10,
     "metadata": {},
     "output_type": "execute_result"
    },
    {
     "data": {
      "image/png": "[encoded data removed]",
      "text/plain": [
       "<Figure size 1080x720 with 1 Axes>"
      ]
     },
     "metadata": {},
     "output_type": "display_data"
    }
   ],
   "source": [
    "target_counts = df_reduced.TARGET.value_counts()\n",
    "sns.set(rc={'figure.figsize':(15,10)})\n",
    "print (target_counts)\n",
    "\n",
    "target_counts.plot(kind='pie').set(title='Target')"
   ]
  },
  {
   "cell_type": "code",
   "execution_count": 78,
   "metadata": {},
   "outputs": [
    {
     "data": {
      "text/plain": [
       "<AxesSubplot:xlabel='TARGET', ylabel='AMT_GOODS_PRICE'>"
      ]
     },
     "execution_count": 78,
     "metadata": {},
     "output_type": "execute_result"
    },
    {
     "data": {
      "image/png": "[encoded data removed]",
      "text/plain": [
       "<Figure size 1080x720 with 1 Axes>"
      ]
     },
     "metadata": {},
     "output_type": "display_data"
    }
   ],
   "source": [
    "sns.boxplot(y=\"AMT_GOODS_PRICE\", x=\"TARGET\", data=df_reduced)"
   ]
  },
  {
   "cell_type": "code",
   "execution_count": 84,
   "metadata": {},
   "outputs": [
    {
     "data": {
      "text/plain": [
       "<AxesSubplot:xlabel='TARGET', ylabel='DAYS_ID_PUBLISH'>"
      ]
     },
     "execution_count": 84,
     "metadata": {},
     "output_type": "execute_result"
    },
    {
     "data": {
      "image/png": "[encoded data removed]",
      "text/plain": [
       "<Figure size 1080x720 with 1 Axes>"
      ]
     },
     "metadata": {},
     "output_type": "display_data"
    }
   ],
   "source": [
    "sns.boxplot(y=\"DAYS_ID_PUBLISH\", x=\"TARGET\", data=df_reduced)"
   ]
  },
  {
   "cell_type": "code",
   "execution_count": 95,
   "metadata": {},
   "outputs": [],
   "source": [
    "defaulters = df_reduced[df_reduced.TARGET==1]\n",
    "nondefaulters = df_reduced[df_reduced.TARGET==0]\n",
    "\n",
    "\n",
    "\n",
    "\n",
    "def dualPlot (varToDist, newVar, q, label):\n",
    "    defaulters [newVar] = pd.qcut(defaulters.loc[:,varToDist],q=q, labels=label)\n",
    "    nondefaulters [newVar] = pd.qcut(nondefaulters.loc[:,varToDist],q=q, labels=label)\n",
    "\n",
    "\n",
    "    fig, (ax1, ax2) = pyplot.subplots(ncols=2, figsize=(40,15))\n",
    "    s1=sns.countplot(ax=ax1,x=defaulters[newVar], data=defaulters, order= defaulters[var].value_counts().index)\n",
    "\n",
    "    s1.set_xticklabels(s1.get_xticklabels(),rotation=45,fontsize=18)\n",
    "    ax1.set_title('Distribution of '+ '%s' %newVar +' - Defaulters', fontsize=15)\n",
    "    ax1.set_xlabel('%s' %newVar,fontsize=15)\n",
    "    ax1.set_ylabel(\"Count of Loans\",fontsize=15)\n",
    "\n",
    "    s2=sns.countplot(ax=ax2,x=nondefaulters[newVar], data=nondefaulters, order= nondefaulters[var].value_counts().index)\n",
    "\n",
    "    s2.set_xticklabels(s2.get_xticklabels(),rotation=45,fontsize=18)\n",
    "    ax2.set_xlabel('%s' %newVar, fontsize=15)\n",
    "    ax2.set_ylabel(\"Count of Loans\", fontsize=15)\n",
    "    ax2.set_title('Distribution of '+ '%s' %newVar +' - Non-Defaulters', fontsize=15)\n",
    "    pyplot.show()\n"
   ]
  },
  {
   "cell_type": "code",
   "execution_count": 96,
   "metadata": {},
   "outputs": [
    {
     "data": {
      "image/png": "[encoded data removed]",
      "text/plain": [
       "<Figure size 2880x1080 with 2 Axes>"
      ]
     },
     "metadata": {},
     "output_type": "display_data"
    }
   ],
   "source": [
    "dualPlot ('AMT_INCOME_TOTAL', 'INCOME_BRACKET', [0,0.10,0.35,0.50,0.90,1], ['Very_low','Low','Medium','High','Very_high'])"
   ]
  },
  {
   "cell_type": "code",
   "execution_count": 98,
   "metadata": {},
   "outputs": [
    {
     "data": {
      "image/png": "[encoded data removed]",
      "text/plain": [
       "<Figure size 2880x1080 with 2 Axes>"
      ]
     },
     "metadata": {},
     "output_type": "display_data"
    }
   ],
   "source": [
    "dualPlot ('AMT_CREDIT', 'CREDIT_BRACKET', [0,0.10,0.35,0.50,0.90,1], ['Very_low','Low','Medium','High','Very_high'])"
   ]
  },
  {
   "cell_type": "markdown",
   "metadata": {},
   "source": [
    "## Model <a class=\"anchor\" id=\"model\"></a>"
   ]
  },
  {
   "cell_type": "code",
   "execution_count": 11,
   "metadata": {},
   "outputs": [
    {
     "name": "stdout",
     "output_type": "stream",
     "text": [
      "Index(['AMT_ANNUITY', 'AMT_CREDIT', 'AMT_GOODS_PRICE', 'AMT_INCOME_TOTAL', 'AMT_REQ_CREDIT_BUREAU_YEAR', 'DAYS_BIRTH', 'DAYS_EMPLOYED', 'DAYS_ID_PUBLISH', 'DAYS_LAST_PHONE_CHANGE', 'OBS_30_CNT_SOCIAL_CIRCLE'], dtype='object')\n"
     ]
    }
   ],
   "source": [
    "\n",
    "X = df_reduced.drop(['TARGET'], axis=1)\n",
    "y = df_reduced['TARGET']\n",
    "\n",
    "print (X.columns)"
   ]
  },
  {
   "cell_type": "code",
   "execution_count": 12,
   "metadata": {},
   "outputs": [],
   "source": [
    "from sklearn.model_selection import train_test_split\n",
    "from sklearn.utils import resample\n",
    "X_train, X_test, y_train, y_test = train_test_split(X, y, test_size=0.2, random_state=42)"
   ]
  },
  {
   "cell_type": "code",
   "execution_count": 13,
   "metadata": {},
   "outputs": [
    {
     "name": "stdout",
     "output_type": "stream",
     "text": [
      "(173868, 10)\n",
      "(43467, 10)\n"
     ]
    }
   ],
   "source": [
    "print(X_train.shape)\n",
    "print(X_test.shape)"
   ]
  },
  {
   "cell_type": "code",
   "execution_count": 14,
   "metadata": {},
   "outputs": [],
   "source": [
    "#combine them back for resampling\n",
    "train_data = pd.concat([X_train, y_train], axis=1)"
   ]
  },
  {
   "cell_type": "code",
   "execution_count": 15,
   "metadata": {},
   "outputs": [],
   "source": [
    "#combine them back for default only test\n",
    "test_data = pd.concat([X_test, y_test], axis=1)\n",
    "positive_test = train_data[train_data.TARGET==1]\n",
    "X_test_default = positive_test.drop(['TARGET'], axis=1)\n",
    "y_test_default = positive_test['TARGET']"
   ]
  },
  {
   "cell_type": "code",
   "execution_count": 16,
   "metadata": {},
   "outputs": [],
   "source": [
    "# separate minority and majority classes\n",
    "negative = train_data[train_data.TARGET==0]\n",
    "positive = train_data[train_data.TARGET==1]\n",
    "# upsample minority\n",
    "pos_upsampled = resample(positive,\n",
    "replace=True, # sample with replacement\n",
    "n_samples=len(negative), # match number in majority class\n",
    "random_state=27) # reproducible results\n",
    "# combine majority and upsampled minority\n",
    "upsampled = pd.concat([negative, pos_upsampled])"
   ]
  },
  {
   "cell_type": "code",
   "execution_count": 17,
   "metadata": {},
   "outputs": [
    {
     "data": {
      "text/plain": [
       "0    159485\n",
       "1    159485\n",
       "Name: TARGET, dtype: int64"
      ]
     },
     "execution_count": 17,
     "metadata": {},
     "output_type": "execute_result"
    }
   ],
   "source": [
    "# check new class counts\n",
    "upsampled.TARGET.value_counts()"
   ]
  },
  {
   "cell_type": "code",
   "execution_count": 18,
   "metadata": {},
   "outputs": [],
   "source": [
    "X_train = upsampled.drop(['TARGET'], axis=1)\n",
    "y_train = upsampled['TARGET']"
   ]
  },
  {
   "cell_type": "code",
   "execution_count": 19,
   "metadata": {},
   "outputs": [],
   "source": [
    "\n",
    "num_features = [\"AMT_ANNUITY\", \"AMT_CREDIT\", \"AMT_GOODS_PRICE\", \"AMT_INCOME_TOTAL\", \"AMT_REQ_CREDIT_BUREAU_YEAR\", \"DAYS_BIRTH\", \"DAYS_EMPLOYED\", \"DAYS_ID_PUBLISH\", \"DAYS_LAST_PHONE_CHANGE\", \"OBS_30_CNT_SOCIAL_CIRCLE\"]\n",
    "cat_features = []\n",
    "#\"NAME_FAMILY_STATUS\", "
   ]
  },
  {
   "cell_type": "code",
   "execution_count": 20,
   "metadata": {},
   "outputs": [],
   "source": [
    "from sklearn.pipeline import Pipeline\n",
    "from sklearn.impute import SimpleImputer\n",
    "from sklearn.preprocessing import StandardScaler, OneHotEncoder\n",
    "\n",
    "# Create the preprocessing pipeline for numerical features\n",
    "# There are two steps in this pipeline\n",
    "# Pipeline(steps=[(name1, transform1), (name2, transform2), ...]) \n",
    "# NOTE the step names can be arbitrary\n",
    "\n",
    "# Step 1 is what we discussed before - filling the missing values if any using mean\n",
    "# Step 2 is feature scaling via standardization - making features look like normal-distributed \n",
    "# see sandardization: https://scikit-learn.org/stable/modules/generated/sklearn.preprocessing.StandardScaler.html)\n",
    "num_pipeline = Pipeline(\n",
    "    steps=[\n",
    "        ('num_imputer', SimpleImputer()),  # we will tune differet strategies later\n",
    "        ('scaler', StandardScaler()),\n",
    "        ]\n",
    ")\n",
    "\n",
    "# Create the preprocessing pipelines for the categorical features\n",
    "# There are two steps in this pipeline:\n",
    "# Step 1: filling the missing values if any using the most frequent value\n",
    "# Step 2: one hot encoding\n",
    "\n",
    "cat_pipeline = Pipeline(\n",
    "    steps=[\n",
    "        ('cat_imputer', SimpleImputer(strategy='most_frequent')),\n",
    "        ('onehot', OneHotEncoder(handle_unknown='ignore')),\n",
    "    ]\n",
    ")\n",
    "\n",
    "# Assign features to the pipelines and Combine two pipelines to form the preprocessor\n",
    "from sklearn.compose import ColumnTransformer\n",
    "\n",
    "preprocessor = ColumnTransformer(\n",
    "    transformers=[\n",
    "        ('num_pipeline', num_pipeline, num_features),\n",
    "        ('cat_pipeline', cat_pipeline, cat_features),\n",
    "    ]\n",
    ")"
   ]
  },
  {
   "cell_type": "code",
   "execution_count": 21,
   "metadata": {},
   "outputs": [],
   "source": [
    "from sklearn.tree import DecisionTreeClassifier\n",
    "\n",
    "pipeline_dt = Pipeline(\n",
    "    steps=[\n",
    "        ('preprocessor', preprocessor),\n",
    "        ('clf_dt', DecisionTreeClassifier()),\n",
    "    ]\n",
    ")"
   ]
  },
  {
   "cell_type": "code",
   "execution_count": 22,
   "metadata": {},
   "outputs": [],
   "source": [
    "from sklearn.model_selection import GridSearchCV\n",
    "\n",
    "# set up the values of hyperparameters you want to evaluate\n",
    "# here you must use the step names as the prefix followed by two under_scores to sepecify the parameter names and the \"full path\" of the steps\n",
    "\n",
    "# we are trying 2 different impputer strategies \n",
    "# 2x5 different decision tree models with different parameters\n",
    "# in total we are trying 2x2x5 = 20 different combinations\n",
    "\n",
    "param_grid_dt = [\n",
    "    {\n",
    "        'preprocessor__num_pipeline__num_imputer__strategy': ['mean', 'median'],\n",
    "        'clf_dt__criterion': ['gini', 'entropy'], \n",
    "        'clf_dt__max_depth': [3, 4, 5, 6, 7],\n",
    "    }\n",
    "]\n",
    "\n",
    "# set up the grid search \n",
    "grid_search_dt = GridSearchCV(pipeline_dt, param_grid_dt, cv=10, scoring='accuracy', n_jobs=model_fit_cores, verbose=model_verbose_level)"
   ]
  },
  {
   "cell_type": "code",
   "execution_count": 23,
   "metadata": {},
   "outputs": [
    {
     "name": "stdout",
     "output_type": "stream",
     "text": [
      "Fitting 10 folds for each of 20 candidates, totalling 200 fits\n"
     ]
    },
    {
     "data": {
      "text/plain": [
       "GridSearchCV(cv=10,\n",
       "             estimator=Pipeline(steps=[('preprocessor',\n",
       "                                        ColumnTransformer(transformers=[('num_pipeline',\n",
       "                                                                         Pipeline(steps=[('num_imputer',\n",
       "                                                                                          SimpleImputer()),\n",
       "                                                                                         ('scaler',\n",
       "                                                                                          StandardScaler())]),\n",
       "                                                                         ['AMT_ANNUITY',\n",
       "                                                                          'AMT_CREDIT',\n",
       "                                                                          'AMT_GOODS_PRICE',\n",
       "                                                                          'AMT_INCOME_TOTAL',\n",
       "                                                                          'AMT_REQ_CREDIT_BUREAU_YEAR',\n",
       "                                                                          'DAYS_BIRTH',\n",
       "                                                                          'DAYS_EMPLOYED',\n",
       "                                                                          'DAYS_ID_PUBLISH',\n",
       "                                                                          'DAYS_LAST_PHONE_CHANG...\n",
       "                                                                         Pipeline(steps=[('cat_imputer',\n",
       "                                                                                          SimpleImputer(strategy='most_frequent')),\n",
       "                                                                                         ('onehot',\n",
       "                                                                                          OneHotEncoder(handle_unknown='ignore'))]),\n",
       "                                                                         [])])),\n",
       "                                       ('clf_dt', DecisionTreeClassifier())]),\n",
       "             n_jobs=7,\n",
       "             param_grid=[{'clf_dt__criterion': ['gini', 'entropy'],\n",
       "                          'clf_dt__max_depth': [3, 4, 5, 6, 7],\n",
       "                          'preprocessor__num_pipeline__num_imputer__strategy': ['mean',\n",
       "                                                                                'median']}],\n",
       "             scoring='accuracy', verbose=4)"
      ]
     },
     "execution_count": 23,
     "metadata": {},
     "output_type": "execute_result"
    }
   ],
   "source": [
    "# train the model using the full pipeline\n",
    "grid_search_dt.fit(X_train, y_train)"
   ]
  },
  {
   "cell_type": "code",
   "execution_count": 24,
   "metadata": {},
   "outputs": [
    {
     "data": {
      "text/plain": [
       "{'clf_dt__criterion': 'gini',\n",
       " 'clf_dt__max_depth': 7,\n",
       " 'preprocessor__num_pipeline__num_imputer__strategy': 'median'}"
      ]
     },
     "execution_count": 24,
     "metadata": {},
     "output_type": "execute_result"
    }
   ],
   "source": [
    "# check the best performing parameter combination\n",
    "grid_search_dt.best_params_"
   ]
  },
  {
   "cell_type": "code",
   "execution_count": 25,
   "metadata": {},
   "outputs": [
    {
     "data": {
      "text/plain": [
       "0.6062168856005268"
      ]
     },
     "execution_count": 25,
     "metadata": {},
     "output_type": "execute_result"
    }
   ],
   "source": [
    "# best decistion tree model test score\n",
    "grid_search_dt.best_score_"
   ]
  },
  {
   "cell_type": "code",
   "execution_count": 26,
   "metadata": {},
   "outputs": [],
   "source": [
    "# try logistic regression\n",
    "from sklearn.linear_model import LogisticRegression\n",
    "import numpy as np\n",
    "\n",
    "# lr pipeline\n",
    "pipeline_lr = Pipeline([\n",
    "    ('preprocessor', preprocessor),\n",
    "    ('clf', LogisticRegression(random_state=42)),\n",
    "])\n",
    "\n",
    "\n",
    "# lr pipeline\n",
    "param_range_fl = [1.0, 0.5]\n",
    "param_grid_lr=[{'clf__penalty': ['l1', 'l2'],\n",
    "        'clf__C': param_range_fl,\n",
    "        'clf__solver': ['liblinear']}] # l1 lasso l2 ridge\n",
    "\n",
    "# set up the grid search \n",
    "grid_search_lr = GridSearchCV(pipeline_lr, param_grid_lr, cv=10, scoring='accuracy', n_jobs=model_fit_cores, verbose=model_verbose_level)"
   ]
  },
  {
   "cell_type": "code",
   "execution_count": 27,
   "metadata": {},
   "outputs": [
    {
     "name": "stdout",
     "output_type": "stream",
     "text": [
      "Fitting 10 folds for each of 4 candidates, totalling 40 fits\n",
      "Wall time: 1min 17s\n"
     ]
    },
    {
     "data": {
      "text/plain": [
       "GridSearchCV(cv=10,\n",
       "             estimator=Pipeline(steps=[('preprocessor',\n",
       "                                        ColumnTransformer(transformers=[('num_pipeline',\n",
       "                                                                         Pipeline(steps=[('num_imputer',\n",
       "                                                                                          SimpleImputer()),\n",
       "                                                                                         ('scaler',\n",
       "                                                                                          StandardScaler())]),\n",
       "                                                                         ['AMT_ANNUITY',\n",
       "                                                                          'AMT_CREDIT',\n",
       "                                                                          'AMT_GOODS_PRICE',\n",
       "                                                                          'AMT_INCOME_TOTAL',\n",
       "                                                                          'AMT_REQ_CREDIT_BUREAU_YEAR',\n",
       "                                                                          'DAYS_BIRTH',\n",
       "                                                                          'DAYS_EMPLOYED',\n",
       "                                                                          'DAYS_ID_PUBLISH',\n",
       "                                                                          'DAYS_LAST_PHONE_CHANGE',\n",
       "                                                                          'OBS_30_CNT_SOCIAL_CIRCLE']),\n",
       "                                                                        ('cat_pipeline',\n",
       "                                                                         Pipeline(steps=[('cat_imputer',\n",
       "                                                                                          SimpleImputer(strategy='most_frequent')),\n",
       "                                                                                         ('onehot',\n",
       "                                                                                          OneHotEncoder(handle_unknown='ignore'))]),\n",
       "                                                                         [])])),\n",
       "                                       ('clf',\n",
       "                                        LogisticRegression(random_state=42))]),\n",
       "             n_jobs=7,\n",
       "             param_grid=[{'clf__C': [1.0, 0.5], 'clf__penalty': ['l1', 'l2'],\n",
       "                          'clf__solver': ['liblinear']}],\n",
       "             scoring='accuracy', verbose=4)"
      ]
     },
     "execution_count": 27,
     "metadata": {},
     "output_type": "execute_result"
    }
   ],
   "source": [
    "%%time\n",
    "# train the model using the full pipeline\n",
    "grid_search_lr.fit(X_train, y_train)"
   ]
  },
  {
   "cell_type": "code",
   "execution_count": 28,
   "metadata": {},
   "outputs": [
    {
     "data": {
      "text/plain": [
       "{'clf__C': 0.5, 'clf__penalty': 'l2', 'clf__solver': 'liblinear'}"
      ]
     },
     "execution_count": 28,
     "metadata": {},
     "output_type": "execute_result"
    }
   ],
   "source": [
    "# check the best performing parameter combination\n",
    "grid_search_lr.best_params_"
   ]
  },
  {
   "cell_type": "code",
   "execution_count": 29,
   "metadata": {},
   "outputs": [
    {
     "data": {
      "text/plain": [
       "0.597940245164122"
      ]
     },
     "execution_count": 29,
     "metadata": {},
     "output_type": "execute_result"
    }
   ],
   "source": [
    "# best decistion tree model test score\n",
    "grid_search_lr.best_score_"
   ]
  },
  {
   "cell_type": "code",
   "execution_count": 30,
   "metadata": {},
   "outputs": [],
   "source": [
    "# try random forest classifer\n",
    "from sklearn.neighbors import KNeighborsClassifier\n",
    "from sklearn.model_selection import GridSearchCV\n",
    "\n",
    "# rf pipeline\n",
    "pipeline_kn = Pipeline([\n",
    "    ('preprocessor', preprocessor),\n",
    "    ('KNN', KNeighborsClassifier()),\n",
    "])\n",
    "\n",
    "k_range = [1, 5, 10, 20]\n",
    "weight_options = ['uniform', 'distance']\n",
    "\n",
    "# here we are trying 2x3 different rf models\n",
    "param_grid_kn = [\n",
    "    {\n",
    "        'KNN__n_neighbors': k_range,\n",
    "        'KNN__weights': weight_options\n",
    "    }\n",
    "]\n",
    "\n",
    "# set up the grid search \n",
    "grid_search_kn = GridSearchCV(pipeline_kn, param_grid_kn, cv=10, scoring='accuracy', n_jobs=model_fit_cores, verbose=model_verbose_level)"
   ]
  },
  {
   "cell_type": "code",
   "execution_count": 31,
   "metadata": {},
   "outputs": [
    {
     "name": "stdout",
     "output_type": "stream",
     "text": [
      "2021-07-10 19:39:56.905231\n"
     ]
    }
   ],
   "source": [
    "print(datetime.datetime.now())"
   ]
  },
  {
   "cell_type": "code",
   "execution_count": 32,
   "metadata": {},
   "outputs": [
    {
     "name": "stdout",
     "output_type": "stream",
     "text": [
      "Fitting 10 folds for each of 8 candidates, totalling 80 fits\n",
      "Wall time: 27min 3s\n"
     ]
    },
    {
     "data": {
      "text/plain": [
       "GridSearchCV(cv=10,\n",
       "             estimator=Pipeline(steps=[('preprocessor',\n",
       "                                        ColumnTransformer(transformers=[('num_pipeline',\n",
       "                                                                         Pipeline(steps=[('num_imputer',\n",
       "                                                                                          SimpleImputer()),\n",
       "                                                                                         ('scaler',\n",
       "                                                                                          StandardScaler())]),\n",
       "                                                                         ['AMT_ANNUITY',\n",
       "                                                                          'AMT_CREDIT',\n",
       "                                                                          'AMT_GOODS_PRICE',\n",
       "                                                                          'AMT_INCOME_TOTAL',\n",
       "                                                                          'AMT_REQ_CREDIT_BUREAU_YEAR',\n",
       "                                                                          'DAYS_BIRTH',\n",
       "                                                                          'DAYS_EMPLOYED',\n",
       "                                                                          'DAYS_ID_PUBLISH',\n",
       "                                                                          'DAYS_LAST_PHONE_CHANGE',\n",
       "                                                                          'OBS_30_CNT_SOCIAL_CIRCLE']),\n",
       "                                                                        ('cat_pipeline',\n",
       "                                                                         Pipeline(steps=[('cat_imputer',\n",
       "                                                                                          SimpleImputer(strategy='most_frequent')),\n",
       "                                                                                         ('onehot',\n",
       "                                                                                          OneHotEncoder(handle_unknown='ignore'))]),\n",
       "                                                                         [])])),\n",
       "                                       ('KNN', KNeighborsClassifier())]),\n",
       "             n_jobs=7,\n",
       "             param_grid=[{'KNN__n_neighbors': [1, 5, 10, 20],\n",
       "                          'KNN__weights': ['uniform', 'distance']}],\n",
       "             scoring='accuracy', verbose=4)"
      ]
     },
     "execution_count": 32,
     "metadata": {},
     "output_type": "execute_result"
    }
   ],
   "source": [
    "%%time\n",
    "# train the model using the full pipeline\n",
    "grid_search_kn.fit(X_train, y_train)"
   ]
  },
  {
   "cell_type": "code",
   "execution_count": 33,
   "metadata": {},
   "outputs": [
    {
     "data": {
      "text/plain": [
       "{'KNN__n_neighbors': 1, 'KNN__weights': 'uniform'}"
      ]
     },
     "execution_count": 33,
     "metadata": {},
     "output_type": "execute_result"
    }
   ],
   "source": [
    "# check the best performing parameter combination\n",
    "grid_search_kn.best_params_"
   ]
  },
  {
   "cell_type": "code",
   "execution_count": 34,
   "metadata": {},
   "outputs": [
    {
     "data": {
      "text/plain": [
       "array([0.95437502, 0.95437502, 0.8774681 , 0.88037746, 0.80600056,\n",
       "       0.82409631, 0.70154873, 0.79267643])"
      ]
     },
     "execution_count": 34,
     "metadata": {},
     "output_type": "execute_result"
    }
   ],
   "source": [
    "# test score for the 20 decision tree models\n",
    "grid_search_kn.cv_results_['mean_test_score']"
   ]
  },
  {
   "cell_type": "code",
   "execution_count": 35,
   "metadata": {},
   "outputs": [],
   "source": [
    "# try random forest classifer\n",
    "from sklearn.ensemble import RandomForestClassifier\n",
    "from sklearn.model_selection import GridSearchCV\n",
    "\n",
    "# rf pipeline\n",
    "pipeline_rf = Pipeline([\n",
    "    ('preprocessor', preprocessor),\n",
    "    ('clf_rf', RandomForestClassifier()),\n",
    "])\n",
    "\n",
    "# here we are trying 2x3 different rf models\n",
    "param_grid_rf = [\n",
    "    {\n",
    "        'clf_rf__criterion': ['gini', 'entropy'], \n",
    "        'clf_rf__n_estimators': [150],  \n",
    "    }\n",
    "]\n",
    "\n",
    "# set up the grid search \n",
    "grid_search_rf = GridSearchCV(pipeline_rf, param_grid_rf, cv=10, scoring='accuracy', n_jobs=model_fit_cores, verbose=model_verbose_level)"
   ]
  },
  {
   "cell_type": "code",
   "execution_count": 36,
   "metadata": {},
   "outputs": [
    {
     "name": "stdout",
     "output_type": "stream",
     "text": [
      "2021-07-10 20:07:00.214873\n"
     ]
    }
   ],
   "source": [
    "print(datetime.datetime.now())"
   ]
  },
  {
   "cell_type": "code",
   "execution_count": 37,
   "metadata": {},
   "outputs": [
    {
     "name": "stdout",
     "output_type": "stream",
     "text": [
      "Fitting 10 folds for each of 2 candidates, totalling 20 fits\n",
      "Wall time: 14min 24s\n"
     ]
    },
    {
     "data": {
      "text/plain": [
       "GridSearchCV(cv=10,\n",
       "             estimator=Pipeline(steps=[('preprocessor',\n",
       "                                        ColumnTransformer(transformers=[('num_pipeline',\n",
       "                                                                         Pipeline(steps=[('num_imputer',\n",
       "                                                                                          SimpleImputer()),\n",
       "                                                                                         ('scaler',\n",
       "                                                                                          StandardScaler())]),\n",
       "                                                                         ['AMT_ANNUITY',\n",
       "                                                                          'AMT_CREDIT',\n",
       "                                                                          'AMT_GOODS_PRICE',\n",
       "                                                                          'AMT_INCOME_TOTAL',\n",
       "                                                                          'AMT_REQ_CREDIT_BUREAU_YEAR',\n",
       "                                                                          'DAYS_BIRTH',\n",
       "                                                                          'DAYS_EMPLOYED',\n",
       "                                                                          'DAYS_ID_PUBLISH',\n",
       "                                                                          'DAYS_LAST_PHONE_CHANGE',\n",
       "                                                                          'OBS_30_CNT_SOCIAL_CIRCLE']),\n",
       "                                                                        ('cat_pipeline',\n",
       "                                                                         Pipeline(steps=[('cat_imputer',\n",
       "                                                                                          SimpleImputer(strategy='most_frequent')),\n",
       "                                                                                         ('onehot',\n",
       "                                                                                          OneHotEncoder(handle_unknown='ignore'))]),\n",
       "                                                                         [])])),\n",
       "                                       ('clf_rf', RandomForestClassifier())]),\n",
       "             n_jobs=7,\n",
       "             param_grid=[{'clf_rf__criterion': ['gini', 'entropy'],\n",
       "                          'clf_rf__n_estimators': [150]}],\n",
       "             scoring='accuracy', verbose=4)"
      ]
     },
     "execution_count": 37,
     "metadata": {},
     "output_type": "execute_result"
    }
   ],
   "source": [
    "%%time\n",
    "# train the model using the full pipeline\n",
    "grid_search_rf.fit(X_train, y_train)"
   ]
  },
  {
   "cell_type": "code",
   "execution_count": 38,
   "metadata": {},
   "outputs": [
    {
     "name": "stdout",
     "output_type": "stream",
     "text": [
      "2021-07-10 20:21:24.974084\n"
     ]
    }
   ],
   "source": [
    "print(datetime.datetime.now())"
   ]
  },
  {
   "cell_type": "code",
   "execution_count": 39,
   "metadata": {},
   "outputs": [
    {
     "data": {
      "text/plain": [
       "{'clf_rf__criterion': 'gini', 'clf_rf__n_estimators': 150}"
      ]
     },
     "execution_count": 39,
     "metadata": {},
     "output_type": "execute_result"
    }
   ],
   "source": [
    "# check the best performing parameter combination\n",
    "grid_search_rf.best_params_"
   ]
  },
  {
   "cell_type": "code",
   "execution_count": 40,
   "metadata": {},
   "outputs": [
    {
     "data": {
      "text/plain": [
       "['mean_fit_time',\n",
       " 'mean_score_time',\n",
       " 'mean_test_score',\n",
       " 'param_clf_rf__criterion',\n",
       " 'param_clf_rf__n_estimators',\n",
       " 'params',\n",
       " 'rank_test_score',\n",
       " 'split0_test_score',\n",
       " 'split1_test_score',\n",
       " 'split2_test_score',\n",
       " 'split3_test_score',\n",
       " 'split4_test_score',\n",
       " 'split5_test_score',\n",
       " 'split6_test_score',\n",
       " 'split7_test_score',\n",
       " 'split8_test_score',\n",
       " 'split9_test_score',\n",
       " 'std_fit_time',\n",
       " 'std_score_time',\n",
       " 'std_test_score']"
      ]
     },
     "execution_count": 40,
     "metadata": {},
     "output_type": "execute_result"
    }
   ],
   "source": [
    "# build-in CV results keys\n",
    "sorted(grid_search_rf.cv_results_.keys())"
   ]
  },
  {
   "cell_type": "code",
   "execution_count": 41,
   "metadata": {},
   "outputs": [
    {
     "data": {
      "text/plain": [
       "array([0.99910963, 0.99906888])"
      ]
     },
     "execution_count": 41,
     "metadata": {},
     "output_type": "execute_result"
    }
   ],
   "source": [
    "# test score for the 20 decision tree models\n",
    "grid_search_rf.cv_results_['mean_test_score']"
   ]
  },
  {
   "cell_type": "code",
   "execution_count": 42,
   "metadata": {},
   "outputs": [],
   "source": [
    "from sklearn.metrics import accuracy_score, recall_score, precision_score, f1_score\n",
    "\n",
    "def modelDataSheet (names, estimators, X_test, y_test, X_test_default, y_test_default):\n",
    "\n",
    "    data = []\n",
    "    \n",
    "    for est in estimators:\n",
    "        y_pred = est.predict(X_test)\n",
    "        y_pred_default = est.predict(X_test_default)\n",
    "\n",
    "        data.append ([accuracy_score(y_test_default, y_pred_default), precision_score(y_test_default, y_pred_default), recall_score(y_test_default, y_pred_default), f1_score(y_test_default, y_pred_default), accuracy_score(y_test, y_pred), precision_score(y_test, y_pred), recall_score(y_test, y_pred), f1_score(y_test, y_pred)])\n",
    "\n",
    "    dfModel = pd.DataFrame (data, columns = [\"accuracy default\", \"precision default\", \"recall default\", \"f1 score default\", \n",
    "                                             \"accuracy\", \"precision\", \"recall\", \"f1 score\"])\n",
    "    dfModel [\"Name\"] = names\n",
    "    return dfModel"
   ]
  },
  {
   "cell_type": "code",
   "execution_count": 43,
   "metadata": {},
   "outputs": [
    {
     "data": {
      "text/html": [
       "<div>\n",
       "<style scoped>\n",
       "    .dataframe tbody tr th:only-of-type {\n",
       "        vertical-align: middle;\n",
       "    }\n",
       "\n",
       "    .dataframe tbody tr th {\n",
       "        vertical-align: top;\n",
       "    }\n",
       "\n",
       "    .dataframe thead th {\n",
       "        text-align: right;\n",
       "    }\n",
       "</style>\n",
       "<table border=\"1\" class=\"dataframe\">\n",
       "  <thead>\n",
       "    <tr style=\"text-align: right;\">\n",
       "      <th></th>\n",
       "      <th>accuracy default</th>\n",
       "      <th>precision default</th>\n",
       "      <th>recall default</th>\n",
       "      <th>f1 score default</th>\n",
       "      <th>accuracy</th>\n",
       "      <th>precision</th>\n",
       "      <th>recall</th>\n",
       "      <th>f1 score</th>\n",
       "      <th>Name</th>\n",
       "    </tr>\n",
       "  </thead>\n",
       "  <tbody>\n",
       "    <tr>\n",
       "      <th>0</th>\n",
       "      <td>0.608149</td>\n",
       "      <td>1.0</td>\n",
       "      <td>0.608149</td>\n",
       "      <td>0.756334</td>\n",
       "      <td>0.606207</td>\n",
       "      <td>0.119625</td>\n",
       "      <td>0.579365</td>\n",
       "      <td>0.198305</td>\n",
       "      <td>Decision Tree</td>\n",
       "    </tr>\n",
       "    <tr>\n",
       "      <th>1</th>\n",
       "      <td>1.000000</td>\n",
       "      <td>1.0</td>\n",
       "      <td>1.000000</td>\n",
       "      <td>1.000000</td>\n",
       "      <td>0.915292</td>\n",
       "      <td>0.195652</td>\n",
       "      <td>0.002463</td>\n",
       "      <td>0.004865</td>\n",
       "      <td>Random Forrest</td>\n",
       "    </tr>\n",
       "    <tr>\n",
       "      <th>2</th>\n",
       "      <td>0.644998</td>\n",
       "      <td>1.0</td>\n",
       "      <td>0.644998</td>\n",
       "      <td>0.784193</td>\n",
       "      <td>0.563324</td>\n",
       "      <td>0.119394</td>\n",
       "      <td>0.657909</td>\n",
       "      <td>0.202110</td>\n",
       "      <td>Linear</td>\n",
       "    </tr>\n",
       "    <tr>\n",
       "      <th>3</th>\n",
       "      <td>1.000000</td>\n",
       "      <td>1.0</td>\n",
       "      <td>1.000000</td>\n",
       "      <td>1.000000</td>\n",
       "      <td>0.847908</td>\n",
       "      <td>0.104996</td>\n",
       "      <td>0.107553</td>\n",
       "      <td>0.106259</td>\n",
       "      <td>KNN</td>\n",
       "    </tr>\n",
       "  </tbody>\n",
       "</table>\n",
       "</div>"
      ],
      "text/plain": [
       "   accuracy default  precision default  recall default  f1 score default  accuracy  precision    recall  f1 score            Name\n",
       "0          0.608149                1.0        0.608149          0.756334  0.606207   0.119625  0.579365  0.198305   Decision Tree\n",
       "1          1.000000                1.0        1.000000          1.000000  0.915292   0.195652  0.002463  0.004865  Random Forrest\n",
       "2          0.644998                1.0        0.644998          0.784193  0.563324   0.119394  0.657909  0.202110          Linear\n",
       "3          1.000000                1.0        1.000000          1.000000  0.847908   0.104996  0.107553  0.106259             KNN"
      ]
     },
     "execution_count": 43,
     "metadata": {},
     "output_type": "execute_result"
    }
   ],
   "source": [
    "names = [\"Decision Tree\", \"Random Forrest\", \"Linear\", \"KNN\"]\n",
    "modelDataSheet (names, [grid_search_dt, grid_search_rf, grid_search_lr, grid_search_kn], X_test, y_test, X_test_default, y_test_default)\n"
   ]
  },
  {
   "cell_type": "code",
   "execution_count": 44,
   "metadata": {},
   "outputs": [
    {
     "name": "stdout",
     "output_type": "stream",
     "text": [
      "best dt score is:  0.6062168856005268\n",
      "best rf score is:  0.9991096341348715\n",
      "best lr score is:  0.597940245164122\n",
      "best kn score is:  0.9543750195943194\n"
     ]
    }
   ],
   "source": [
    "# best test score\n",
    "print('best dt score is: ', grid_search_dt.best_score_)\n",
    "print('best rf score is: ', grid_search_rf.best_score_)\n",
    "print('best lr score is: ', grid_search_lr.best_score_)\n",
    "print('best kn score is: ', grid_search_kn.best_score_)"
   ]
  },
  {
   "cell_type": "code",
   "execution_count": 45,
   "metadata": {
    "tags": []
   },
   "outputs": [
    {
     "data": {
      "text/plain": [
       "0.9991096341348715"
      ]
     },
     "execution_count": 45,
     "metadata": {},
     "output_type": "execute_result"
    }
   ],
   "source": [
    "# best decistion tree model test score\n",
    "grid_search_rf.best_score_"
   ]
  },
  {
   "cell_type": "code",
   "execution_count": 46,
   "metadata": {},
   "outputs": [
    {
     "data": {
      "text/plain": [
       "Pipeline(steps=[('preprocessor',\n",
       "                 ColumnTransformer(transformers=[('num_pipeline',\n",
       "                                                  Pipeline(steps=[('num_imputer',\n",
       "                                                                   SimpleImputer()),\n",
       "                                                                  ('scaler',\n",
       "                                                                   StandardScaler())]),\n",
       "                                                  ['AMT_ANNUITY', 'AMT_CREDIT',\n",
       "                                                   'AMT_GOODS_PRICE',\n",
       "                                                   'AMT_INCOME_TOTAL',\n",
       "                                                   'AMT_REQ_CREDIT_BUREAU_YEAR',\n",
       "                                                   'DAYS_BIRTH',\n",
       "                                                   'DAYS_EMPLOYED',\n",
       "                                                   'DAYS_ID_PUBLISH',\n",
       "                                                   'DAYS_LAST_PHONE_CHANGE',\n",
       "                                                   'OBS_30_CNT_SOCIAL_CIRCLE']),\n",
       "                                                 ('cat_pipeline',\n",
       "                                                  Pipeline(steps=[('cat_imputer',\n",
       "                                                                   SimpleImputer(strategy='most_frequent')),\n",
       "                                                                  ('onehot',\n",
       "                                                                   OneHotEncoder(handle_unknown='ignore'))]),\n",
       "                                                  [])])),\n",
       "                ('clf_rf', RandomForestClassifier(n_estimators=150))])"
      ]
     },
     "execution_count": 46,
     "metadata": {},
     "output_type": "execute_result"
    }
   ],
   "source": [
    "# select the best model\n",
    "# the best parameters are shown, note SimpleImputer() implies that mean strategry is used\n",
    "clf_best = grid_search_rf.best_estimator_\n",
    "clf_best"
   ]
  },
  {
   "cell_type": "code",
   "execution_count": 47,
   "metadata": {},
   "outputs": [
    {
     "name": "stdout",
     "output_type": "stream",
     "text": [
      "Accuracy Score : 0.9152920606437067\n",
      "Precision Score : 0.1956521739130435\n",
      "Recall Score : 0.0024630541871921183\n",
      "F1 Score : 0.0048648648648648655\n"
     ]
    }
   ],
   "source": [
    "# final test on the testing set\n",
    "# To predict on new data: simply calling the predict method \n",
    "# the full pipeline steps will be applied to the testing set followed by the prediction\n",
    "y_pred = clf_best.predict(X_test)\n",
    "y_pred_default = clf_best.predict(X_test_default)\n",
    "# calculate accuracy, precision, recall, f1-score\n",
    "# Note: y_test is the ground truth for the tesing set\n",
    "# we have similiar score for the testing set as the cross validation score - good\n",
    "from sklearn.metrics import accuracy_score, recall_score, precision_score, f1_score\n",
    "\n",
    "print(f'Accuracy Score : {accuracy_score(y_test, y_pred)}')\n",
    "print(f'Precision Score : {precision_score(y_test, y_pred)}')\n",
    "print(f'Recall Score : {recall_score(y_test, y_pred)}')\n",
    "print(f'F1 Score : {f1_score(y_test, y_pred)}')"
   ]
  },
  {
   "cell_type": "code",
   "execution_count": 48,
   "metadata": {},
   "outputs": [
    {
     "name": "stdout",
     "output_type": "stream",
     "text": [
      "2021-07-10 20:21:50.824329\n"
     ]
    }
   ],
   "source": [
    "print(datetime.datetime.now())"
   ]
  },
  {
   "cell_type": "code",
   "execution_count": 49,
   "metadata": {},
   "outputs": [
    {
     "name": "stdout",
     "output_type": "stream",
     "text": [
      "3654\n",
      "43467\n",
      "14383\n"
     ]
    }
   ],
   "source": [
    "import numpy as np\n",
    "\n",
    "print (np.count_nonzero(y_test))\n",
    "print (y_test.count())\n",
    "print (y_test_default.count())\n"
   ]
  },
  {
   "cell_type": "markdown",
   "metadata": {},
   "source": [
    "## Baseline prediction"
   ]
  },
  {
   "cell_type": "code",
   "execution_count": 50,
   "metadata": {},
   "outputs": [
    {
     "data": {
      "text/plain": [
       "0    0.917008\n",
       "1    0.082992\n",
       "Name: TARGET, dtype: float64"
      ]
     },
     "execution_count": 50,
     "metadata": {},
     "output_type": "execute_result"
    }
   ],
   "source": [
    "group_norm = df_reduced['TARGET'].value_counts(normalize=True)\n",
    "group_norm"
   ]
  },
  {
   "cell_type": "code",
   "execution_count": 51,
   "metadata": {},
   "outputs": [],
   "source": [
    "baseline_pred = np.zeros(y_test.count())\n",
    "baseline_pred_default = np.zeros(y_test_default.count())"
   ]
  },
  {
   "cell_type": "code",
   "execution_count": 52,
   "metadata": {},
   "outputs": [
    {
     "name": "stdout",
     "output_type": "stream",
     "text": [
      "Baseline Accuracy Score : 0.915936227482918\n",
      "Our Best Accuracy Score : 0.9152920606437067\n",
      "Baseline Recall Score : 0.0\n",
      "Model Recall Score : 0.0024630541871921183\n",
      "Baseline Recall Score Default : 0.0\n",
      "Model Recall Score Default : 1.0\n"
     ]
    }
   ],
   "source": [
    "# our model is better than the base line - good\n",
    "print(f'Baseline Accuracy Score : {accuracy_score(y_test, baseline_pred)}')\n",
    "print(f'Our Best Accuracy Score : {accuracy_score(y_test, y_pred)}')\n",
    "print(f'Baseline Recall Score : {recall_score(y_test, baseline_pred)}')\n",
    "print(f'Model Recall Score : {recall_score(y_test, y_pred)}')\n",
    "\n",
    "\n",
    "print(f'Baseline Recall Score Default : {recall_score(y_test_default, baseline_pred_default)}')\n",
    "print(f'Model Recall Score Default : {recall_score(y_test_default, y_pred_default)}')\n"
   ]
  },
  {
   "cell_type": "markdown",
   "metadata": {},
   "source": [
    "## Feature Importance\n"
   ]
  },
  {
   "cell_type": "code",
   "execution_count": 53,
   "metadata": {},
   "outputs": [
    {
     "data": {
      "text/plain": [
       "{'preprocessor': ColumnTransformer(transformers=[('num_pipeline',\n",
       "                                  Pipeline(steps=[('num_imputer',\n",
       "                                                   SimpleImputer()),\n",
       "                                                  ('scaler', StandardScaler())]),\n",
       "                                  ['AMT_ANNUITY', 'AMT_CREDIT',\n",
       "                                   'AMT_GOODS_PRICE', 'AMT_INCOME_TOTAL',\n",
       "                                   'AMT_REQ_CREDIT_BUREAU_YEAR', 'DAYS_BIRTH',\n",
       "                                   'DAYS_EMPLOYED', 'DAYS_ID_PUBLISH',\n",
       "                                   'DAYS_LAST_PHONE_CHANGE',\n",
       "                                   'OBS_30_CNT_SOCIAL_CIRCLE']),\n",
       "                                 ('cat_pipeline',\n",
       "                                  Pipeline(steps=[('cat_imputer',\n",
       "                                                   SimpleImputer(strategy='most_frequent')),\n",
       "                                                  ('onehot',\n",
       "                                                   OneHotEncoder(handle_unknown='ignore'))]),\n",
       "                                  [])]),\n",
       " 'clf_rf': RandomForestClassifier(n_estimators=150)}"
      ]
     },
     "execution_count": 53,
     "metadata": {},
     "output_type": "execute_result"
    }
   ],
   "source": [
    "clf_best.named_steps"
   ]
  },
  {
   "cell_type": "code",
   "execution_count": 54,
   "metadata": {},
   "outputs": [
    {
     "data": {
      "text/plain": [
       "ColumnTransformer(transformers=[('num_pipeline',\n",
       "                                 Pipeline(steps=[('num_imputer',\n",
       "                                                  SimpleImputer()),\n",
       "                                                 ('scaler', StandardScaler())]),\n",
       "                                 ['AMT_ANNUITY', 'AMT_CREDIT',\n",
       "                                  'AMT_GOODS_PRICE', 'AMT_INCOME_TOTAL',\n",
       "                                  'AMT_REQ_CREDIT_BUREAU_YEAR', 'DAYS_BIRTH',\n",
       "                                  'DAYS_EMPLOYED', 'DAYS_ID_PUBLISH',\n",
       "                                  'DAYS_LAST_PHONE_CHANGE',\n",
       "                                  'OBS_30_CNT_SOCIAL_CIRCLE']),\n",
       "                                ('cat_pipeline',\n",
       "                                 Pipeline(steps=[('cat_imputer',\n",
       "                                                  SimpleImputer(strategy='most_frequent')),\n",
       "                                                 ('onehot',\n",
       "                                                  OneHotEncoder(handle_unknown='ignore'))]),\n",
       "                                 [])])"
      ]
     },
     "execution_count": 54,
     "metadata": {},
     "output_type": "execute_result"
    }
   ],
   "source": [
    "clf_best.named_steps['preprocessor']"
   ]
  },
  {
   "cell_type": "code",
   "execution_count": 55,
   "metadata": {},
   "outputs": [
    {
     "data": {
      "text/plain": [
       "array([0.12130939, 0.09550668, 0.07593888, 0.08585655, 0.04788693,\n",
       "       0.13284421, 0.14478301, 0.12700744, 0.1227891 , 0.0460778 ])"
      ]
     },
     "execution_count": 55,
     "metadata": {},
     "output_type": "execute_result"
    }
   ],
   "source": [
    "i = clf_best['clf_rf'].feature_importances_\n",
    "i"
   ]
  },
  {
   "cell_type": "code",
   "execution_count": 56,
   "metadata": {},
   "outputs": [
    {
     "data": {
      "text/plain": [
       "[('num_pipeline',\n",
       "  Pipeline(steps=[('num_imputer', SimpleImputer()), ('scaler', StandardScaler())]),\n",
       "  ['AMT_ANNUITY',\n",
       "   'AMT_CREDIT',\n",
       "   'AMT_GOODS_PRICE',\n",
       "   'AMT_INCOME_TOTAL',\n",
       "   'AMT_REQ_CREDIT_BUREAU_YEAR',\n",
       "   'DAYS_BIRTH',\n",
       "   'DAYS_EMPLOYED',\n",
       "   'DAYS_ID_PUBLISH',\n",
       "   'DAYS_LAST_PHONE_CHANGE',\n",
       "   'OBS_30_CNT_SOCIAL_CIRCLE']),\n",
       " ('cat_pipeline',\n",
       "  Pipeline(steps=[('cat_imputer', SimpleImputer(strategy='most_frequent')),\n",
       "                  ('onehot', OneHotEncoder(handle_unknown='ignore'))]),\n",
       "  [])]"
      ]
     },
     "execution_count": 56,
     "metadata": {},
     "output_type": "execute_result"
    }
   ],
   "source": [
    "clf_best['preprocessor'].transformers_"
   ]
  },
  {
   "cell_type": "code",
   "execution_count": 57,
   "metadata": {},
   "outputs": [
    {
     "data": {
      "text/plain": [
       "ColumnTransformer(transformers=[('num_pipeline',\n",
       "                                 Pipeline(steps=[('num_imputer',\n",
       "                                                  SimpleImputer()),\n",
       "                                                 ('scaler', StandardScaler())]),\n",
       "                                 ['AMT_ANNUITY', 'AMT_CREDIT',\n",
       "                                  'AMT_GOODS_PRICE', 'AMT_INCOME_TOTAL',\n",
       "                                  'AMT_REQ_CREDIT_BUREAU_YEAR', 'DAYS_BIRTH',\n",
       "                                  'DAYS_EMPLOYED', 'DAYS_ID_PUBLISH',\n",
       "                                  'DAYS_LAST_PHONE_CHANGE',\n",
       "                                  'OBS_30_CNT_SOCIAL_CIRCLE']),\n",
       "                                ('cat_pipeline',\n",
       "                                 Pipeline(steps=[('cat_imputer',\n",
       "                                                  SimpleImputer(strategy='most_frequent')),\n",
       "                                                 ('onehot',\n",
       "                                                  OneHotEncoder(handle_unknown='ignore'))]),\n",
       "                                 [])])"
      ]
     },
     "execution_count": 57,
     "metadata": {},
     "output_type": "execute_result"
    }
   ],
   "source": [
    "clf_best[0] "
   ]
  },
  {
   "cell_type": "code",
   "execution_count": 58,
   "metadata": {},
   "outputs": [
    {
     "data": {
      "text/plain": [
       "[('num_pipeline',\n",
       "  Pipeline(steps=[('num_imputer', SimpleImputer()), ('scaler', StandardScaler())]),\n",
       "  ['AMT_ANNUITY',\n",
       "   'AMT_CREDIT',\n",
       "   'AMT_GOODS_PRICE',\n",
       "   'AMT_INCOME_TOTAL',\n",
       "   'AMT_REQ_CREDIT_BUREAU_YEAR',\n",
       "   'DAYS_BIRTH',\n",
       "   'DAYS_EMPLOYED',\n",
       "   'DAYS_ID_PUBLISH',\n",
       "   'DAYS_LAST_PHONE_CHANGE',\n",
       "   'OBS_30_CNT_SOCIAL_CIRCLE']),\n",
       " ('cat_pipeline',\n",
       "  Pipeline(steps=[('cat_imputer', SimpleImputer(strategy='most_frequent')),\n",
       "                  ('onehot', OneHotEncoder(handle_unknown='ignore'))]),\n",
       "  [])]"
      ]
     },
     "execution_count": 58,
     "metadata": {},
     "output_type": "execute_result"
    }
   ],
   "source": [
    "clf_best[0].transformers_"
   ]
  },
  {
   "cell_type": "code",
   "execution_count": 59,
   "metadata": {},
   "outputs": [
    {
     "data": {
      "text/plain": [
       "['AMT_ANNUITY',\n",
       " 'AMT_CREDIT',\n",
       " 'AMT_GOODS_PRICE',\n",
       " 'AMT_INCOME_TOTAL',\n",
       " 'AMT_REQ_CREDIT_BUREAU_YEAR',\n",
       " 'DAYS_BIRTH',\n",
       " 'DAYS_EMPLOYED',\n",
       " 'DAYS_ID_PUBLISH',\n",
       " 'DAYS_LAST_PHONE_CHANGE',\n",
       " 'OBS_30_CNT_SOCIAL_CIRCLE']"
      ]
     },
     "execution_count": 59,
     "metadata": {},
     "output_type": "execute_result"
    }
   ],
   "source": [
    "num_original_feature_names = clf_best[0].transformers_[0][2]\n",
    "num_original_feature_names"
   ]
  },
  {
   "cell_type": "code",
   "execution_count": 60,
   "metadata": {},
   "outputs": [
    {
     "data": {
      "text/plain": [
       "[]"
      ]
     },
     "execution_count": 60,
     "metadata": {},
     "output_type": "execute_result"
    }
   ],
   "source": [
    "cat_original_feature_names = clf_best[0].transformers_[1][2]\n",
    "cat_original_feature_names"
   ]
  },
  {
   "cell_type": "code",
   "execution_count": 61,
   "metadata": {},
   "outputs": [],
   "source": [
    "#cat_new_feature_names = list(clf_best[0].transformers_[1][1]['onehot'].get_feature_names(cat_original_feature_names))\n",
    "#cat_new_feature_names"
   ]
  },
  {
   "cell_type": "code",
   "execution_count": 62,
   "metadata": {},
   "outputs": [
    {
     "data": {
      "text/plain": [
       "['AMT_ANNUITY',\n",
       " 'AMT_CREDIT',\n",
       " 'AMT_GOODS_PRICE',\n",
       " 'AMT_INCOME_TOTAL',\n",
       " 'AMT_REQ_CREDIT_BUREAU_YEAR',\n",
       " 'DAYS_BIRTH',\n",
       " 'DAYS_EMPLOYED',\n",
       " 'DAYS_ID_PUBLISH',\n",
       " 'DAYS_LAST_PHONE_CHANGE',\n",
       " 'OBS_30_CNT_SOCIAL_CIRCLE']"
      ]
     },
     "execution_count": 62,
     "metadata": {},
     "output_type": "execute_result"
    }
   ],
   "source": [
    "feature_names = num_original_feature_names #+ cat_new_feature_names\n",
    "feature_names"
   ]
  },
  {
   "cell_type": "code",
   "execution_count": 63,
   "metadata": {},
   "outputs": [
    {
     "data": {
      "text/html": [
       "<div>\n",
       "<style scoped>\n",
       "    .dataframe tbody tr th:only-of-type {\n",
       "        vertical-align: middle;\n",
       "    }\n",
       "\n",
       "    .dataframe tbody tr th {\n",
       "        vertical-align: top;\n",
       "    }\n",
       "\n",
       "    .dataframe thead th {\n",
       "        text-align: right;\n",
       "    }\n",
       "</style>\n",
       "<table border=\"1\" class=\"dataframe\">\n",
       "  <thead>\n",
       "    <tr style=\"text-align: right;\">\n",
       "      <th></th>\n",
       "      <th>importance</th>\n",
       "    </tr>\n",
       "  </thead>\n",
       "  <tbody>\n",
       "    <tr>\n",
       "      <th>AMT_ANNUITY</th>\n",
       "      <td>0.121309</td>\n",
       "    </tr>\n",
       "    <tr>\n",
       "      <th>AMT_CREDIT</th>\n",
       "      <td>0.095507</td>\n",
       "    </tr>\n",
       "    <tr>\n",
       "      <th>AMT_GOODS_PRICE</th>\n",
       "      <td>0.075939</td>\n",
       "    </tr>\n",
       "    <tr>\n",
       "      <th>AMT_INCOME_TOTAL</th>\n",
       "      <td>0.085857</td>\n",
       "    </tr>\n",
       "    <tr>\n",
       "      <th>AMT_REQ_CREDIT_BUREAU_YEAR</th>\n",
       "      <td>0.047887</td>\n",
       "    </tr>\n",
       "    <tr>\n",
       "      <th>DAYS_BIRTH</th>\n",
       "      <td>0.132844</td>\n",
       "    </tr>\n",
       "    <tr>\n",
       "      <th>DAYS_EMPLOYED</th>\n",
       "      <td>0.144783</td>\n",
       "    </tr>\n",
       "    <tr>\n",
       "      <th>DAYS_ID_PUBLISH</th>\n",
       "      <td>0.127007</td>\n",
       "    </tr>\n",
       "    <tr>\n",
       "      <th>DAYS_LAST_PHONE_CHANGE</th>\n",
       "      <td>0.122789</td>\n",
       "    </tr>\n",
       "    <tr>\n",
       "      <th>OBS_30_CNT_SOCIAL_CIRCLE</th>\n",
       "      <td>0.046078</td>\n",
       "    </tr>\n",
       "  </tbody>\n",
       "</table>\n",
       "</div>"
      ],
      "text/plain": [
       "                            importance\n",
       "AMT_ANNUITY                   0.121309\n",
       "AMT_CREDIT                    0.095507\n",
       "AMT_GOODS_PRICE               0.075939\n",
       "AMT_INCOME_TOTAL              0.085857\n",
       "AMT_REQ_CREDIT_BUREAU_YEAR    0.047887\n",
       "DAYS_BIRTH                    0.132844\n",
       "DAYS_EMPLOYED                 0.144783\n",
       "DAYS_ID_PUBLISH               0.127007\n",
       "DAYS_LAST_PHONE_CHANGE        0.122789\n",
       "OBS_30_CNT_SOCIAL_CIRCLE      0.046078"
      ]
     },
     "execution_count": 63,
     "metadata": {},
     "output_type": "execute_result"
    }
   ],
   "source": [
    "r = pd.DataFrame(i, index=feature_names, columns=['importance'])\n",
    "r"
   ]
  },
  {
   "cell_type": "code",
   "execution_count": 64,
   "metadata": {},
   "outputs": [
    {
     "data": {
      "text/html": [
       "<div>\n",
       "<style scoped>\n",
       "    .dataframe tbody tr th:only-of-type {\n",
       "        vertical-align: middle;\n",
       "    }\n",
       "\n",
       "    .dataframe tbody tr th {\n",
       "        vertical-align: top;\n",
       "    }\n",
       "\n",
       "    .dataframe thead th {\n",
       "        text-align: right;\n",
       "    }\n",
       "</style>\n",
       "<table border=\"1\" class=\"dataframe\">\n",
       "  <thead>\n",
       "    <tr style=\"text-align: right;\">\n",
       "      <th></th>\n",
       "      <th>importance</th>\n",
       "    </tr>\n",
       "  </thead>\n",
       "  <tbody>\n",
       "    <tr>\n",
       "      <th>DAYS_EMPLOYED</th>\n",
       "      <td>0.144783</td>\n",
       "    </tr>\n",
       "    <tr>\n",
       "      <th>DAYS_BIRTH</th>\n",
       "      <td>0.132844</td>\n",
       "    </tr>\n",
       "    <tr>\n",
       "      <th>DAYS_ID_PUBLISH</th>\n",
       "      <td>0.127007</td>\n",
       "    </tr>\n",
       "    <tr>\n",
       "      <th>DAYS_LAST_PHONE_CHANGE</th>\n",
       "      <td>0.122789</td>\n",
       "    </tr>\n",
       "    <tr>\n",
       "      <th>AMT_ANNUITY</th>\n",
       "      <td>0.121309</td>\n",
       "    </tr>\n",
       "    <tr>\n",
       "      <th>AMT_CREDIT</th>\n",
       "      <td>0.095507</td>\n",
       "    </tr>\n",
       "    <tr>\n",
       "      <th>AMT_INCOME_TOTAL</th>\n",
       "      <td>0.085857</td>\n",
       "    </tr>\n",
       "    <tr>\n",
       "      <th>AMT_GOODS_PRICE</th>\n",
       "      <td>0.075939</td>\n",
       "    </tr>\n",
       "    <tr>\n",
       "      <th>AMT_REQ_CREDIT_BUREAU_YEAR</th>\n",
       "      <td>0.047887</td>\n",
       "    </tr>\n",
       "    <tr>\n",
       "      <th>OBS_30_CNT_SOCIAL_CIRCLE</th>\n",
       "      <td>0.046078</td>\n",
       "    </tr>\n",
       "  </tbody>\n",
       "</table>\n",
       "</div>"
      ],
      "text/plain": [
       "                            importance\n",
       "DAYS_EMPLOYED                 0.144783\n",
       "DAYS_BIRTH                    0.132844\n",
       "DAYS_ID_PUBLISH               0.127007\n",
       "DAYS_LAST_PHONE_CHANGE        0.122789\n",
       "AMT_ANNUITY                   0.121309\n",
       "AMT_CREDIT                    0.095507\n",
       "AMT_INCOME_TOTAL              0.085857\n",
       "AMT_GOODS_PRICE               0.075939\n",
       "AMT_REQ_CREDIT_BUREAU_YEAR    0.047887\n",
       "OBS_30_CNT_SOCIAL_CIRCLE      0.046078"
      ]
     },
     "execution_count": 64,
     "metadata": {},
     "output_type": "execute_result"
    }
   ],
   "source": [
    "r.sort_values('importance', ascending=False)"
   ]
  },
  {
   "cell_type": "code",
   "execution_count": 65,
   "metadata": {},
   "outputs": [
    {
     "data": {
      "text/plain": [
       "<AxesSubplot:>"
      ]
     },
     "execution_count": 65,
     "metadata": {},
     "output_type": "execute_result"
    },
    {
     "data": {
      "image/png": "[encoded data removed]",
      "text/plain": [
       "<Figure size 1080x720 with 1 Axes>"
      ]
     },
     "metadata": {},
     "output_type": "display_data"
    }
   ],
   "source": [
    "r.sort_values('importance', ascending=False).plot.bar()"
   ]
  },
  {
   "cell_type": "markdown",
   "metadata": {},
   "source": [
    "## Persist the Model\n",
    "The following code shows how to save the trained model as a pickle file, which can be loaded in to make predictions."
   ]
  },
  {
   "cell_type": "code",
   "execution_count": 66,
   "metadata": {},
   "outputs": [
    {
     "data": {
      "text/plain": [
       "['clf-best.pickle']"
      ]
     },
     "execution_count": 66,
     "metadata": {},
     "output_type": "execute_result"
    }
   ],
   "source": [
    "# Save the model as a pickle file\n",
    "import joblib\n",
    "joblib.dump(clf_best, \"clf-best.pickle\", compress=5)"
   ]
  },
  {
   "cell_type": "code",
   "execution_count": 67,
   "metadata": {},
   "outputs": [
    {
     "data": {
      "text/plain": [
       "Pipeline(steps=[('preprocessor',\n",
       "                 ColumnTransformer(transformers=[('num_pipeline',\n",
       "                                                  Pipeline(steps=[('num_imputer',\n",
       "                                                                   SimpleImputer()),\n",
       "                                                                  ('scaler',\n",
       "                                                                   StandardScaler())]),\n",
       "                                                  ['AMT_ANNUITY', 'AMT_CREDIT',\n",
       "                                                   'AMT_GOODS_PRICE',\n",
       "                                                   'AMT_INCOME_TOTAL',\n",
       "                                                   'AMT_REQ_CREDIT_BUREAU_YEAR',\n",
       "                                                   'DAYS_BIRTH',\n",
       "                                                   'DAYS_EMPLOYED',\n",
       "                                                   'DAYS_ID_PUBLISH',\n",
       "                                                   'DAYS_LAST_PHONE_CHANGE',\n",
       "                                                   'OBS_30_CNT_SOCIAL_CIRCLE']),\n",
       "                                                 ('cat_pipeline',\n",
       "                                                  Pipeline(steps=[('cat_imputer',\n",
       "                                                                   SimpleImputer(strategy='most_frequent')),\n",
       "                                                                  ('onehot',\n",
       "                                                                   OneHotEncoder(handle_unknown='ignore'))]),\n",
       "                                                  [])])),\n",
       "                ('clf_rf', RandomForestClassifier(n_estimators=150))])"
      ]
     },
     "execution_count": 67,
     "metadata": {},
     "output_type": "execute_result"
    }
   ],
   "source": [
    "# Load the model from a pickle file\n",
    "saved_tree_clf = joblib.load(\"clf-best.pickle\")\n",
    "saved_tree_clf"
   ]
  },
  {
   "cell_type": "code",
   "execution_count": 68,
   "metadata": {},
   "outputs": [
    {
     "data": {
      "text/html": [
       "<div>\n",
       "<style scoped>\n",
       "    .dataframe tbody tr th:only-of-type {\n",
       "        vertical-align: middle;\n",
       "    }\n",
       "\n",
       "    .dataframe tbody tr th {\n",
       "        vertical-align: top;\n",
       "    }\n",
       "\n",
       "    .dataframe thead th {\n",
       "        text-align: right;\n",
       "    }\n",
       "</style>\n",
       "<table border=\"1\" class=\"dataframe\">\n",
       "  <thead>\n",
       "    <tr style=\"text-align: right;\">\n",
       "      <th></th>\n",
       "      <th>TARGET</th>\n",
       "      <th>AMT_ANNUITY</th>\n",
       "      <th>AMT_CREDIT</th>\n",
       "      <th>AMT_GOODS_PRICE</th>\n",
       "      <th>AMT_INCOME_TOTAL</th>\n",
       "      <th>AMT_REQ_CREDIT_BUREAU_YEAR</th>\n",
       "      <th>DAYS_BIRTH</th>\n",
       "      <th>DAYS_EMPLOYED</th>\n",
       "      <th>DAYS_ID_PUBLISH</th>\n",
       "      <th>DAYS_LAST_PHONE_CHANGE</th>\n",
       "      <th>OBS_30_CNT_SOCIAL_CIRCLE</th>\n",
       "    </tr>\n",
       "  </thead>\n",
       "  <tbody>\n",
       "    <tr>\n",
       "      <th>0</th>\n",
       "      <td>1</td>\n",
       "      <td>24700.5</td>\n",
       "      <td>406597.5</td>\n",
       "      <td>351000.0</td>\n",
       "      <td>202500.0</td>\n",
       "      <td>1.0</td>\n",
       "      <td>-9461</td>\n",
       "      <td>-637</td>\n",
       "      <td>-2120</td>\n",
       "      <td>-1134.0</td>\n",
       "      <td>2.0</td>\n",
       "    </tr>\n",
       "    <tr>\n",
       "      <th>1</th>\n",
       "      <td>0</td>\n",
       "      <td>35698.5</td>\n",
       "      <td>1293502.5</td>\n",
       "      <td>1129500.0</td>\n",
       "      <td>270000.0</td>\n",
       "      <td>0.0</td>\n",
       "      <td>-16765</td>\n",
       "      <td>-1188</td>\n",
       "      <td>-291</td>\n",
       "      <td>-828.0</td>\n",
       "      <td>1.0</td>\n",
       "    </tr>\n",
       "    <tr>\n",
       "      <th>2</th>\n",
       "      <td>0</td>\n",
       "      <td>6750.0</td>\n",
       "      <td>135000.0</td>\n",
       "      <td>135000.0</td>\n",
       "      <td>67500.0</td>\n",
       "      <td>0.0</td>\n",
       "      <td>-19046</td>\n",
       "      <td>-225</td>\n",
       "      <td>-2531</td>\n",
       "      <td>-815.0</td>\n",
       "      <td>0.0</td>\n",
       "    </tr>\n",
       "    <tr>\n",
       "      <th>4</th>\n",
       "      <td>0</td>\n",
       "      <td>21865.5</td>\n",
       "      <td>513000.0</td>\n",
       "      <td>513000.0</td>\n",
       "      <td>121500.0</td>\n",
       "      <td>0.0</td>\n",
       "      <td>-19932</td>\n",
       "      <td>-3038</td>\n",
       "      <td>-3458</td>\n",
       "      <td>-1106.0</td>\n",
       "      <td>0.0</td>\n",
       "    </tr>\n",
       "    <tr>\n",
       "      <th>5</th>\n",
       "      <td>0</td>\n",
       "      <td>27517.5</td>\n",
       "      <td>490495.5</td>\n",
       "      <td>454500.0</td>\n",
       "      <td>99000.0</td>\n",
       "      <td>1.0</td>\n",
       "      <td>-16941</td>\n",
       "      <td>-1588</td>\n",
       "      <td>-477</td>\n",
       "      <td>-2536.0</td>\n",
       "      <td>0.0</td>\n",
       "    </tr>\n",
       "  </tbody>\n",
       "</table>\n",
       "</div>"
      ],
      "text/plain": [
       "   TARGET  AMT_ANNUITY  AMT_CREDIT  AMT_GOODS_PRICE  AMT_INCOME_TOTAL  AMT_REQ_CREDIT_BUREAU_YEAR  DAYS_BIRTH  DAYS_EMPLOYED  DAYS_ID_PUBLISH  DAYS_LAST_PHONE_CHANGE  OBS_30_CNT_SOCIAL_CIRCLE\n",
       "0       1      24700.5    406597.5         351000.0          202500.0                         1.0       -9461           -637            -2120                 -1134.0                       2.0\n",
       "1       0      35698.5   1293502.5        1129500.0          270000.0                         0.0      -16765          -1188             -291                  -828.0                       1.0\n",
       "2       0       6750.0    135000.0         135000.0           67500.0                         0.0      -19046           -225            -2531                  -815.0                       0.0\n",
       "4       0      21865.5    513000.0         513000.0          121500.0                         0.0      -19932          -3038            -3458                 -1106.0                       0.0\n",
       "5       0      27517.5    490495.5         454500.0           99000.0                         1.0      -16941          -1588             -477                 -2536.0                       0.0"
      ]
     },
     "execution_count": 68,
     "metadata": {},
     "output_type": "execute_result"
    }
   ],
   "source": [
    "df_reduced.head ()"
   ]
  },
  {
   "cell_type": "code",
   "execution_count": 69,
   "metadata": {},
   "outputs": [
    {
     "data": {
      "text/html": [
       "<div>\n",
       "<style scoped>\n",
       "    .dataframe tbody tr th:only-of-type {\n",
       "        vertical-align: middle;\n",
       "    }\n",
       "\n",
       "    .dataframe tbody tr th {\n",
       "        vertical-align: top;\n",
       "    }\n",
       "\n",
       "    .dataframe thead th {\n",
       "        text-align: right;\n",
       "    }\n",
       "</style>\n",
       "<table border=\"1\" class=\"dataframe\">\n",
       "  <thead>\n",
       "    <tr style=\"text-align: right;\">\n",
       "      <th></th>\n",
       "      <th>AMT_ANNUITY</th>\n",
       "      <th>AMT_CREDIT</th>\n",
       "      <th>AMT_GOODS_PRICE</th>\n",
       "      <th>AMT_INCOME_TOTAL</th>\n",
       "      <th>AMT_REQ_CREDIT_BUREAU_YEAR</th>\n",
       "      <th>DAYS_BIRTH</th>\n",
       "      <th>DAYS_EMPLOYED</th>\n",
       "      <th>DAYS_ID_PUBLISH</th>\n",
       "      <th>DAYS_LAST_PHONE_CHANGE</th>\n",
       "      <th>OBS_30_CNT_SOCIAL_CIRCLE</th>\n",
       "    </tr>\n",
       "  </thead>\n",
       "  <tbody>\n",
       "    <tr>\n",
       "      <th>0</th>\n",
       "      <td>24700.5</td>\n",
       "      <td>406597.5</td>\n",
       "      <td>351000</td>\n",
       "      <td>202500</td>\n",
       "      <td>1</td>\n",
       "      <td>-9461</td>\n",
       "      <td>-637</td>\n",
       "      <td>-2120</td>\n",
       "      <td>-1134</td>\n",
       "      <td>2</td>\n",
       "    </tr>\n",
       "  </tbody>\n",
       "</table>\n",
       "</div>"
      ],
      "text/plain": [
       "   AMT_ANNUITY  AMT_CREDIT  AMT_GOODS_PRICE  AMT_INCOME_TOTAL  AMT_REQ_CREDIT_BUREAU_YEAR  DAYS_BIRTH  DAYS_EMPLOYED  DAYS_ID_PUBLISH  DAYS_LAST_PHONE_CHANGE  OBS_30_CNT_SOCIAL_CIRCLE\n",
       "0      24700.5    406597.5           351000            202500                           1       -9461           -637            -2120                   -1134                         2"
      ]
     },
     "execution_count": 69,
     "metadata": {},
     "output_type": "execute_result"
    }
   ],
   "source": [
    "applicant1 = pd.DataFrame(\n",
    "    {\n",
    "        \"AMT_ANNUITY\" : [24700.5],\n",
    "        \"AMT_CREDIT\" : [406597.5],\n",
    "        \"AMT_GOODS_PRICE\" : [351000],\n",
    "        \"AMT_INCOME_TOTAL\" : [202500],\n",
    "        \"AMT_REQ_CREDIT_BUREAU_YEAR\" : [1],\n",
    "        \"DAYS_BIRTH\" : [-9461],\n",
    "        \"DAYS_EMPLOYED\" : [-637],\n",
    "        \"DAYS_ID_PUBLISH\" : [-2120],\n",
    "        \"DAYS_LAST_PHONE_CHANGE\" : [-1134],\n",
    "        \"OBS_30_CNT_SOCIAL_CIRCLE\" : [2]\n",
    "    }\n",
    ")\n",
    "applicant1"
   ]
  },
  {
   "cell_type": "code",
   "execution_count": 70,
   "metadata": {},
   "outputs": [
    {
     "data": {
      "text/plain": [
       "array([1], dtype=int64)"
      ]
     },
     "execution_count": 70,
     "metadata": {},
     "output_type": "execute_result"
    }
   ],
   "source": [
    "# defaulted\n",
    "pred1 = saved_tree_clf.predict(applicant1)\n",
    "pred1"
   ]
  },
  {
   "cell_type": "code",
   "execution_count": 71,
   "metadata": {},
   "outputs": [
    {
     "data": {
      "text/html": [
       "<div>\n",
       "<style scoped>\n",
       "    .dataframe tbody tr th:only-of-type {\n",
       "        vertical-align: middle;\n",
       "    }\n",
       "\n",
       "    .dataframe tbody tr th {\n",
       "        vertical-align: top;\n",
       "    }\n",
       "\n",
       "    .dataframe thead th {\n",
       "        text-align: right;\n",
       "    }\n",
       "</style>\n",
       "<table border=\"1\" class=\"dataframe\">\n",
       "  <thead>\n",
       "    <tr style=\"text-align: right;\">\n",
       "      <th></th>\n",
       "      <th>AMT_ANNUITY</th>\n",
       "      <th>AMT_CREDIT</th>\n",
       "      <th>AMT_GOODS_PRICE</th>\n",
       "      <th>AMT_INCOME_TOTAL</th>\n",
       "      <th>AMT_REQ_CREDIT_BUREAU_YEAR</th>\n",
       "      <th>DAYS_BIRTH</th>\n",
       "      <th>DAYS_EMPLOYED</th>\n",
       "      <th>DAYS_ID_PUBLISH</th>\n",
       "      <th>DAYS_LAST_PHONE_CHANGE</th>\n",
       "      <th>OBS_30_CNT_SOCIAL_CIRCLE</th>\n",
       "    </tr>\n",
       "  </thead>\n",
       "  <tbody>\n",
       "    <tr>\n",
       "      <th>0</th>\n",
       "      <td>35698.5</td>\n",
       "      <td>1293502.5</td>\n",
       "      <td>1129500</td>\n",
       "      <td>270000</td>\n",
       "      <td>0</td>\n",
       "      <td>-16765</td>\n",
       "      <td>-1188</td>\n",
       "      <td>-291</td>\n",
       "      <td>-828</td>\n",
       "      <td>1</td>\n",
       "    </tr>\n",
       "  </tbody>\n",
       "</table>\n",
       "</div>"
      ],
      "text/plain": [
       "   AMT_ANNUITY  AMT_CREDIT  AMT_GOODS_PRICE  AMT_INCOME_TOTAL  AMT_REQ_CREDIT_BUREAU_YEAR  DAYS_BIRTH  DAYS_EMPLOYED  DAYS_ID_PUBLISH  DAYS_LAST_PHONE_CHANGE  OBS_30_CNT_SOCIAL_CIRCLE\n",
       "0      35698.5   1293502.5          1129500            270000                           0      -16765          -1188             -291                    -828                         1"
      ]
     },
     "execution_count": 71,
     "metadata": {},
     "output_type": "execute_result"
    }
   ],
   "source": [
    "applicant2 = pd.DataFrame ({\n",
    "    \"AMT_ANNUITY\" : [35698.5],\n",
    "    \"AMT_CREDIT\" : [1293502.5],\n",
    "    \"AMT_GOODS_PRICE\" : [1129500],\n",
    "    \"AMT_INCOME_TOTAL\" : [270000],\n",
    "    \"AMT_REQ_CREDIT_BUREAU_YEAR\" : [0],\n",
    "    \"DAYS_BIRTH\" : [-16765],\n",
    "    \"DAYS_EMPLOYED\" : [-1188],\n",
    "    \"DAYS_ID_PUBLISH\" : [-291],\n",
    "    \"DAYS_LAST_PHONE_CHANGE\" : [-828],\n",
    "    \"OBS_30_CNT_SOCIAL_CIRCLE\" : [1]\n",
    "})\n",
    "applicant2"
   ]
  },
  {
   "cell_type": "code",
   "execution_count": 72,
   "metadata": {},
   "outputs": [
    {
     "data": {
      "text/plain": [
       "array([0], dtype=int64)"
      ]
     },
     "execution_count": 72,
     "metadata": {},
     "output_type": "execute_result"
    }
   ],
   "source": [
    "# not -defaulted\n",
    "pred2 = saved_tree_clf.predict(applicant2)\n",
    "pred2"
   ]
  },
  {
   "cell_type": "code",
   "execution_count": null,
   "metadata": {},
   "outputs": [],
   "source": []
  }
 ],
 "metadata": {
  "kernelspec": {
   "display_name": "Python 3 (ipykernel)",
   "language": "python",
   "name": "python3"
  },
  "language_info": {
   "codemirror_mode": {
    "name": "ipython",
    "version": 3
   },
   "file_extension": ".py",
   "mimetype": "text/x-python",
   "name": "python",
   "nbconvert_exporter": "python",
   "pygments_lexer": "ipython3",
   "version": "3.9.6"
  }
 },
 "nbformat": 4,
 "nbformat_minor": 4
}
